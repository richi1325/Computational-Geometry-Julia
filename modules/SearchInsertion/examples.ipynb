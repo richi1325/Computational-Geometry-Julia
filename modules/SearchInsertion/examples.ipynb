{
 "cells": [
  {
   "cell_type": "code",
   "execution_count": 1,
   "id": "604fbf0e-6a15-454d-858c-091cdf3b6e55",
   "metadata": {},
   "outputs": [],
   "source": [
    "include(\"_util.jl\")\n",
    "include(\"_types.jl\")\n",
    "include(\"intersection.jl\")\n",
    "include(\"inside.jl\")\n",
    "include(\"extremal.jl\")\n",
    "include(\"moving.jl\")\n",
    "import Plots"
   ]
  },
  {
   "cell_type": "markdown",
   "id": "c450890c-d743-4a7b-8e66-56560bf33d77",
   "metadata": {
    "tags": []
   },
   "source": [
    "# Intersection segment to segment"
   ]
  },
  {
   "cell_type": "code",
   "execution_count": 2,
   "id": "7faf79e8-38ee-412f-8acb-c82cd9fcbfbb",
   "metadata": {},
   "outputs": [
    {
     "data": {
      "text/plain": [
       "(\"parallel\", nothing)"
      ]
     },
     "execution_count": 2,
     "metadata": {},
     "output_type": "execute_result"
    }
   ],
   "source": [
    "s1 = Segment([0,0],[4,4])\n",
    "s2 = Segment([1,0],[5,4])\n",
    "code, inter = find_intersect(s1,s2)\n",
    "if inter != nothing\n",
    "    plot(Vertex(inter),color=:yellow)\n",
    "    plot!(s1,color=:green)\n",
    "    plot!(s2,color=:red)\n",
    "end\n",
    "code,inter"
   ]
  },
  {
   "cell_type": "code",
   "execution_count": null,
   "id": "d44d1087-eaf1-4590-91a4-bb9a536c4dc7",
   "metadata": {},
   "outputs": [],
   "source": [
    "s1 = Segment([0,0],[4,4])\n",
    "s2 = Segment([0,4],[4,0])\n",
    "code, inter = find_intersect(s1,s2)\n",
    "plot(s1,color=:green)\n",
    "plot!(s2,color=:red)\n",
    "plot!(Vertex(inter),color=:yellow)"
   ]
  },
  {
   "cell_type": "code",
   "execution_count": null,
   "id": "dc2734d7-ff42-4863-9f37-6a2dd0d8eace",
   "metadata": {},
   "outputs": [],
   "source": [
    "s1 = Segment([0,0],[4,4])\n",
    "s2 = Segment([4,4],[4,0])\n",
    "code, inter = find_intersect(s1,s2)\n",
    "plot(s1,color=:green)\n",
    "plot!(s2,color=:red)\n",
    "plot!(Vertex(inter),color=:yellow)"
   ]
  },
  {
   "cell_type": "markdown",
   "id": "6bed0ab6-e840-4a9e-bca5-02b2e0f2a0af",
   "metadata": {
    "tags": []
   },
   "source": [
    "# Polygon intersection"
   ]
  },
  {
   "cell_type": "code",
   "execution_count": null,
   "id": "9b72a896-8d98-44f1-b617-30e2ed0d2e39",
   "metadata": {},
   "outputs": [],
   "source": [
    "p = Polygon([0,0],[2,0],[2,2],[0,2])\n",
    "q = Polygon([1,1],[3,1],[3,3],[1,3])\n",
    "pq = find_intersect(p,q)\n",
    "plot(p,color=:red)\n",
    "plot!(q,color=:green)\n",
    "plot!(pq,color=:yellow)"
   ]
  },
  {
   "cell_type": "markdown",
   "id": "c624cdc4-c537-42b9-80b6-9dfa1c739da7",
   "metadata": {},
   "source": [
    "# Point inside polygon"
   ]
  },
  {
   "cell_type": "code",
   "execution_count": null,
   "id": "cb5776a4-1c66-4ba1-8620-6c2839812cdd",
   "metadata": {},
   "outputs": [],
   "source": [
    "pol = Polygon([4,4],[8,4],[8,8],[12,4],[20,12],[4,12])\n",
    "plot(pol,color=:orange)\n",
    "for p in 1:1000\n",
    "    p = [(rand()*18)+3,(rand()*14)+1]\n",
    "    code = isinside(p,pol)\n",
    "    if code == \"inside\"\n",
    "        color = :green\n",
    "    elseif code == \"vertex\"\n",
    "        color = :yellow\n",
    "    elseif code == \"edge\"\n",
    "        color = :blue\n",
    "    elseif code == \"outside\"\n",
    "        color = :red\n",
    "    end\n",
    "    plot!(Vertex(p),color=color)\n",
    "end\n",
    "plot!(Vertex([0,0]),color=:white)"
   ]
  },
  {
   "cell_type": "markdown",
   "id": "f55abbb0-1906-4c28-9ddb-c8e5219992ab",
   "metadata": {},
   "source": [
    "# Extremal in direction"
   ]
  },
  {
   "cell_type": "code",
   "execution_count": null,
   "id": "d51095ce-2175-41c6-a28f-963b5523d832",
   "metadata": {},
   "outputs": [],
   "source": [
    "pol = Polygon([1,1],[3,1],[4,3],[2,4],[0,3])\n",
    "u = [0,1]\n",
    "x,y = [0,u[1]],[0,u[2]]\n",
    "ext = Vertex(find_extremal(pol,u))\n",
    "plot(pol,color=:orange)\n",
    "Plots.plot!(x,y,marker=(:circle,5,:blue),linecolor=:blue, linewidth=3, legend=false)\n",
    "plot!(ext,color=:green)"
   ]
  },
  {
   "cell_type": "code",
   "execution_count": null,
   "id": "41d625ad-c7ed-4f94-8a68-b6bcdf9b96ca",
   "metadata": {},
   "outputs": [],
   "source": [
    "pol = Polygon([1,1],[3,1],[4,3],[2,4],[0,3])\n",
    "u = [1,0]\n",
    "x,y = [0,u[1]],[0,u[2]]\n",
    "ext = Vertex(find_extremal(pol,u))\n",
    "plot(pol,color=:orange)\n",
    "Plots.plot!(x,y,marker=(:circle,5,:blue),linecolor=:blue, linewidth=3, legend=false)\n",
    "plot!(ext,color=:green)"
   ]
  },
  {
   "cell_type": "code",
   "execution_count": null,
   "id": "fc021275-d125-4141-93e7-48ada2568055",
   "metadata": {},
   "outputs": [],
   "source": [
    "pol = Polygon([2,6],[-4,6],[-4,2],[-2,-2],[4,2])\n",
    "u = [0,-1]\n",
    "x,y = [0,u[1]],[0,u[2]]\n",
    "ext = Vertex(find_extremal(pol,u))\n",
    "plot(pol,color=:orange)\n",
    "Plots.plot!(x,y,marker=(:circle,5,:blue),linecolor=:blue, linewidth=3, legend=false)\n",
    "plot!(ext,color=:green)"
   ]
  },
  {
   "cell_type": "code",
   "execution_count": null,
   "id": "5ac96712-0dcc-4a32-8adb-37fbc348e412",
   "metadata": {},
   "outputs": [],
   "source": [
    "pol = Polygon([4,2],[6,1],[8,4],[9,7],[6,6],[4,4])\n",
    "u = [1,1]\n",
    "x,y = [0,u[1]],[0,u[2]]\n",
    "ext = Vertex(find_extremal(pol,u))\n",
    "plot(pol,color=:orange)\n",
    "Plots.plot!(x,y,marker=(:circle,5,:blue),linecolor=:blue, linewidth=3, legend=false)\n",
    "plot!(ext,color=:green)"
   ]
  },
  {
   "cell_type": "markdown",
   "id": "eca47c12-ccca-4c04-897d-d21644205fd9",
   "metadata": {
    "tags": []
   },
   "source": [
    "# Shortest single vertex"
   ]
  },
  {
   "cell_type": "code",
   "execution_count": null,
   "id": "848862c3-4641-4d78-9b3c-bb261f5b2fda",
   "metadata": {},
   "outputs": [],
   "source": [
    "p1 = Polygon([0,0],[1,0],[1,1],[0,1])\n",
    "p2 = Polygon([2,2],[3,2],[3,3],[2,3])\n",
    "origin = Vertex([0,4])\n",
    "dest = Vertex([4,2])\n",
    "visg = get_visibility_graph(origin,dest,[p1,p2])"
   ]
  },
  {
   "cell_type": "code",
   "execution_count": null,
   "id": "a074c899-00f2-49aa-8f28-4f7f5ca000d5",
   "metadata": {},
   "outputs": [],
   "source": [
    "plot(visg,color=:deepskyblue2)\n",
    "plot!(p1,color=:darkslategrey)\n",
    "plot!(p2,color=:darkslategrey)\n",
    "plot!(origin,color=:red)\n",
    "plot!(dest,color=:red)"
   ]
  },
  {
   "cell_type": "code",
   "execution_count": null,
   "id": "fe4be57d-03ce-4d16-a252-da08cae6a59a",
   "metadata": {},
   "outputs": [],
   "source": [
    "path = dijkstra(visg,origin,dest)\n",
    "x,y = [v[1] for v in path],[v[2] for v in path]\n",
    "plot(visg,color=:deepskyblue2)\n",
    "plot!(p1,color=:darkslategrey)\n",
    "plot!(p2,color=:darkslategrey)\n",
    "Plots.plot!(x,y,marker=(:circle,5,:orange),linecolor=:orange, linewidth=7, legend=false)\n",
    "plot!(origin,color=:red)\n",
    "plot!(dest,color=:red)"
   ]
  },
  {
   "cell_type": "markdown",
   "id": "c0d32c15-e8ed-4e44-84bb-0924c4b1d099",
   "metadata": {},
   "source": [
    "# Moving Polygon"
   ]
  },
  {
   "cell_type": "code",
   "execution_count": null,
   "id": "e16ca7d5-e70d-4898-a387-967c65dc8597",
   "metadata": {},
   "outputs": [],
   "source": [
    "p0 = Polygon([0,0],[1,0],[2,1],[1,3],[0,1])\n",
    "p1 = Polygon(-[0,0],-[1,0],-[2,1],-[1,3],-[0,1])\n",
    "\n",
    "obs1 = Polygon([2,8],[6,2],[8,6])\n",
    "obs2 = Polygon([15,10],[10,0],[20,5])\n",
    "obs3 = Polygon([10,15],[25,15],[5,20])\n",
    "\n",
    "origin = Vertex([0,0])\n",
    "dest = Vertex([25,8])\n",
    "\n",
    "obs = [obs1,obs2,obs3]\n",
    "obs_hulls = [minkowski_sum(o,p1) for o in obs]\n",
    "colors = [:red,:green,:blue]\n",
    "\n",
    "plot(p1,color=:yellow)\n",
    "for (o,h,c) in zip(obs,obs_hulls,colors)\n",
    "    plot!(o,color=c)\n",
    "    plot!(h,color=c)\n",
    "end\n",
    "plot!(p0,color=:yellow)"
   ]
  },
  {
   "cell_type": "code",
   "execution_count": null,
   "id": "6861bc0d-6864-4368-b890-21e5762671f2",
   "metadata": {},
   "outputs": [],
   "source": [
    "visg = get_visibility_graph(origin,dest,obs_hulls)\n",
    "plot(p1,color=:yellow)\n",
    "for (o,h,c) in zip(obs,obs_hulls,colors)\n",
    "    plot!(o,color=c)\n",
    "    plot!(h,color=c)\n",
    "end\n",
    "plot!(p0,color=:yellow)\n",
    "plot!(visg,color=:deepskyblue2)"
   ]
  },
  {
   "cell_type": "code",
   "execution_count": null,
   "id": "c857bfe3-fe74-423a-82ce-18b2753220f2",
   "metadata": {},
   "outputs": [],
   "source": [
    "path = dijkstra(visg,origin,dest)\n",
    "x,y = [v[1] for v in path],[v[2] for v in path]\n",
    "plot(p1,color=:yellow)\n",
    "for (o,h,c) in zip(obs,obs_hulls,colors)\n",
    "    plot!(o,color=c)\n",
    "    plot!(h,color=c)\n",
    "end\n",
    "plot!(p0,color=:yellow)\n",
    "Plots.plot!(x,y,marker=(:circle,5,:orange),linecolor=:orange, linewidth=7, legend=false)\n",
    "plot!(origin,color=:blue)\n",
    "plot!(dest,color=:red)"
   ]
  },
  {
   "cell_type": "code",
   "execution_count": null,
   "id": "c75f460e-4217-4983-9924-24e46519c67e",
   "metadata": {},
   "outputs": [],
   "source": []
  }
 ],
 "metadata": {
  "kernelspec": {
   "display_name": "Julia 1.7.2",
   "language": "julia",
   "name": "julia-1.7"
  },
  "language_info": {
   "file_extension": ".jl",
   "mimetype": "application/julia",
   "name": "julia",
   "version": "1.7.2"
  }
 },
 "nbformat": 4,
 "nbformat_minor": 5
}
