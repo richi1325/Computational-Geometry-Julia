{
 "cells": [
  {
   "cell_type": "code",
   "execution_count": 291,
   "id": "422607d9-3e2b-4f11-9f30-0dbb5b32bdb9",
   "metadata": {},
   "outputs": [
    {
     "data": {
      "text/plain": [
       "isinside (generic function with 2 methods)"
      ]
     },
     "execution_count": 291,
     "metadata": {},
     "output_type": "execute_result"
    }
   ],
   "source": [
    "include(\"util.jl\")\n",
    "include(\"segment.jl\")"
   ]
  },
  {
   "cell_type": "code",
   "execution_count": 292,
   "id": "1f720982-5cdd-461f-8ad1-09055b0f44e4",
   "metadata": {},
   "outputs": [
    {
     "data": {
      "text/html": [
       "[0, 0, 0]--[1, 0, 0]--[0, 1, 0]--[0, 0, 1]--"
      ],
      "text/plain": [
       "Polyhedron(Any[Polygon(Vertex([0, 0, 0], Vertex([1, 0, 0], Vertex([0, 1, 0], Vertex(#= circular reference @-3 =#), Vertex(#= circular reference @-2 =#)), Vertex(#= circular reference @-2 =#)), Vertex([0, 1, 0], Vertex(#= circular reference @-2 =#), Vertex([1, 0, 0], Vertex(#= circular reference @-2 =#), Vertex(#= circular reference @-3 =#)))), 3, 3), Polygon(Vertex([0, 0, 0], Vertex([1, 0, 0], Vertex([0, 0, 1], Vertex(#= circular reference @-3 =#), Vertex(#= circular reference @-2 =#)), Vertex(#= circular reference @-2 =#)), Vertex([0, 0, 1], Vertex(#= circular reference @-2 =#), Vertex([1, 0, 0], Vertex(#= circular reference @-2 =#), Vertex(#= circular reference @-3 =#)))), 3, 3), Polygon(Vertex([0, 0, 0], Vertex([0, 1, 0], Vertex([0, 0, 1], Vertex(#= circular reference @-3 =#), Vertex(#= circular reference @-2 =#)), Vertex(#= circular reference @-2 =#)), Vertex([0, 0, 1], Vertex(#= circular reference @-2 =#), Vertex([0, 1, 0], Vertex(#= circular reference @-2 =#), Vertex(#= circular reference @-3 =#)))), 3, 3), Polygon(Vertex([1, 0, 0], Vertex([0, 1, 0], Vertex([0, 0, 1], Vertex(#= circular reference @-3 =#), Vertex(#= circular reference @-2 =#)), Vertex(#= circular reference @-2 =#)), Vertex([0, 0, 1], Vertex(#= circular reference @-2 =#), Vertex([0, 1, 0], Vertex(#= circular reference @-2 =#), Vertex(#= circular reference @-3 =#)))), 3, 3)], [[0, 0, 0], [1, 0, 0], [0, 1, 0], [0, 0, 1]])"
      ]
     },
     "execution_count": 292,
     "metadata": {},
     "output_type": "execute_result"
    }
   ],
   "source": [
    "v1 = [0,0,0]\n",
    "v2 = [1,0,0]\n",
    "v3 = [0,1,0]\n",
    "v4 = [0,0,1]\n",
    "hedron = Polyhedron((v1,v2,v3,v4),[1,2,3],[1,2,4],[1,3,4],[2,3,4])"
   ]
  },
  {
   "cell_type": "code",
   "execution_count": 293,
   "id": "8be4c8f2-105a-4e7e-8cac-a236c1850d4e",
   "metadata": {},
   "outputs": [
    {
     "data": {
      "text/plain": [
       "\"inside\""
      ]
     },
     "execution_count": 293,
     "metadata": {},
     "output_type": "execute_result"
    }
   ],
   "source": [
    "isinside([0.25,0.25,0.25],hedron)"
   ]
  },
  {
   "cell_type": "code",
   "execution_count": null,
   "id": "48e4aa95-900f-4407-80b6-ae6f5b2f8e80",
   "metadata": {},
   "outputs": [],
   "source": []
  },
  {
   "cell_type": "code",
   "execution_count": null,
   "id": "adcce075-ee86-42f1-a44e-c4cbb374a1d7",
   "metadata": {},
   "outputs": [],
   "source": []
  }
 ],
 "metadata": {
  "kernelspec": {
   "display_name": "Julia 1.7.2",
   "language": "julia",
   "name": "julia-1.7"
  },
  "language_info": {
   "file_extension": ".jl",
   "mimetype": "application/julia",
   "name": "julia",
   "version": "1.7.2"
  }
 },
 "nbformat": 4,
 "nbformat_minor": 5
}
