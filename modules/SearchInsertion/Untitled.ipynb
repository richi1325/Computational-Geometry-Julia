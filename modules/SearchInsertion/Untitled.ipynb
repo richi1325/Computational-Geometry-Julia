{
 "cells": [
  {
   "cell_type": "code",
   "execution_count": 60,
   "id": "1f979322-c71a-4309-b64c-8ca2e74f170c",
   "metadata": {},
   "outputs": [
    {
     "data": {
      "text/plain": [
       "find_extremal (generic function with 2 methods)"
      ]
     },
     "execution_count": 60,
     "metadata": {},
     "output_type": "execute_result"
    }
   ],
   "source": [
    "include(\"extremal.jl\")"
   ]
  },
  {
   "cell_type": "code",
   "execution_count": 63,
   "id": "848862c3-4641-4d78-9b3c-bb261f5b2fda",
   "metadata": {},
   "outputs": [
    {
     "name": "stdout",
     "output_type": "stream",
     "text": [
      "a: 1  b:5  c:3\n",
      "a: 3  b:5  c:4\n",
      "a: 4  b:5  c:5\n"
     ]
    },
    {
     "data": {
      "text/plain": [
       "2-element Vector{Int64}:\n",
       " 0\n",
       " 3"
      ]
     },
     "execution_count": 63,
     "metadata": {},
     "output_type": "execute_result"
    }
   ],
   "source": [
    "p = Polygon([1,1],[3,1],[4,3],[2,4],[0,3])\n",
    "find_extremal(p, [-1,0])"
   ]
  },
  {
   "cell_type": "code",
   "execution_count": 59,
   "id": "7cac1df2-c0bb-42c4-b192-96ebf3531d0c",
   "metadata": {},
   "outputs": [
    {
     "data": {
      "text/plain": [
       "8"
      ]
     },
     "execution_count": 59,
     "metadata": {},
     "output_type": "execute_result"
    }
   ],
   "source": [
    "using LinearAlgebra\n",
    "dot([1,2],[2,3])"
   ]
  },
  {
   "cell_type": "code",
   "execution_count": null,
   "id": "8419de0a-0541-47f8-accc-2cca0941fc50",
   "metadata": {},
   "outputs": [],
   "source": []
  }
 ],
 "metadata": {
  "kernelspec": {
   "display_name": "Julia 1.7.2",
   "language": "julia",
   "name": "julia-1.7"
  },
  "language_info": {
   "file_extension": ".jl",
   "mimetype": "application/julia",
   "name": "julia",
   "version": "1.7.2"
  }
 },
 "nbformat": 4,
 "nbformat_minor": 5
}
