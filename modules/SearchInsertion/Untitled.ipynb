{
 "cells": [
  {
   "cell_type": "code",
   "execution_count": 36,
   "id": "422607d9-3e2b-4f11-9f30-0dbb5b32bdb9",
   "metadata": {},
   "outputs": [],
   "source": [
    "include(\"util.jl\")\n",
    "include(\"segment.jl\")\n",
    "include(\"intersection.jl\")\n",
    "using DataStructures"
   ]
  },
  {
   "cell_type": "code",
   "execution_count": 37,
   "id": "79ce1541-4e11-441b-af0a-374798856b1e",
   "metadata": {},
   "outputs": [
    {
     "name": "stdout",
     "output_type": "stream",
     "text": [
      "[0.5, -0.5]\n",
      "[2.5, -2.5]\n",
      "[3.5, -3.5]\n"
     ]
    }
   ],
   "source": [
    "s1 = Segment([0,0],[4,-4])\n",
    "s2 = Segment([1,0],[0,-1])\n",
    "s3 = Segment([3,-2],[2,-3])\n",
    "s4 = Segment([4,-3],[3,-4])\n",
    "segments_intersects(s1,s2,s3,s4)"
   ]
  },
  {
   "cell_type": "code",
   "execution_count": null,
   "id": "12cc8b2b-bb76-4834-a5e6-ddf4e4ae5ef1",
   "metadata": {},
   "outputs": [],
   "source": []
  },
  {
   "cell_type": "code",
   "execution_count": null,
   "id": "1881ed48-ac0c-4a65-a19e-1deafcd974ad",
   "metadata": {},
   "outputs": [],
   "source": []
  }
 ],
 "metadata": {
  "kernelspec": {
   "display_name": "Julia 1.7.2",
   "language": "julia",
   "name": "julia-1.7"
  },
  "language_info": {
   "file_extension": ".jl",
   "mimetype": "application/julia",
   "name": "julia",
   "version": "1.7.2"
  }
 },
 "nbformat": 4,
 "nbformat_minor": 5
}
