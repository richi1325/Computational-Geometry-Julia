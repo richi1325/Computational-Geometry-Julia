{
 "cells": [
  {
   "cell_type": "code",
   "execution_count": null,
   "id": "e5353fc4",
   "metadata": {},
   "outputs": [],
   "source": [
    "include(\"../../modules/CovexHull/covexHull.jl\")"
   ]
  },
  {
   "cell_type": "markdown",
   "id": "7862355d",
   "metadata": {},
   "source": [
    "## Convex Hull Graham Scan"
   ]
  },
  {
   "cell_type": "markdown",
   "id": "6053cb14",
   "metadata": {},
   "source": [
    "<p>Graham scan en un algoritmo que inicia con tres puntos y con ellos va eligiendo puntos que previamente fueron ordenados por el angulo con respecto a un punto (el mas lejano a eje Y en los valores negativos), se va moviendo entre puntos y checa si esos puntos nuevos estan a la izquierda o a la derecha y con eso selecciona a los puntos que conforman el Hull.</p>"
   ]
  },
  {
   "cell_type": "markdown",
   "id": "3e59560c",
   "metadata": {},
   "source": [
    "<h3>Pseudo-C&oacute;digo</h3>"
   ]
  },
  {
   "cell_type": "markdown",
   "id": "536aac79",
   "metadata": {},
   "source": [
    "<img src=\"./Images/GrahamScanPseudoCodigo.png\" />"
   ]
  },
  {
   "cell_type": "markdown",
   "id": "97539287",
   "metadata": {},
   "source": [
    "<h3>Time Complexity</h3>"
   ]
  },
  {
   "cell_type": "markdown",
   "id": "86b562dc",
   "metadata": {},
   "source": [
    "<p>En el peor de los casos  por ordenarlo con QuickSort:</p>\n",
    "$$\\mathcal{O}(n^{2})$$\n",
    "<p>En caso intermedio por ordenarlo con QuickSort:</p>\n",
    "$$\\mathcal{O}(n\\log{}n)$$\n",
    "<p>Suponiendo que ya esten ordenados por el angulo este algoritmo seria</p> \n",
    "$$\\mathcal{O}(n)$$"
   ]
  },
  {
   "cell_type": "markdown",
   "id": "8a824356",
   "metadata": {},
   "source": [
    "<h3>Example</h3>"
   ]
  },
  {
   "cell_type": "markdown",
   "id": "521e8634",
   "metadata": {},
   "source": [
    "<img src=\"./Images/Gif/GrahamScan.gif\" />"
   ]
  },
  {
   "cell_type": "markdown",
   "id": "38044375",
   "metadata": {},
   "source": [
    "<h3>Implementaci&oacute;n en Julia</h3>"
   ]
  },
  {
   "cell_type": "code",
   "execution_count": null,
   "id": "38d31e56",
   "metadata": {},
   "outputs": [],
   "source": [
    "Points = readPoints(\"./Ejemplos/GrahamScan.txt\")"
   ]
  },
  {
   "cell_type": "code",
   "execution_count": null,
   "id": "e854e99d",
   "metadata": {},
   "outputs": [],
   "source": [
    "showPoints(Points)"
   ]
  },
  {
   "cell_type": "code",
   "execution_count": null,
   "id": "f4315732",
   "metadata": {},
   "outputs": [],
   "source": [
    "Graham = convexHullGrahamScan(Points)"
   ]
  },
  {
   "cell_type": "code",
   "execution_count": null,
   "id": "71f5be50",
   "metadata": {},
   "outputs": [],
   "source": [
    "showConvexHull(Graham, Points)"
   ]
  },
  {
   "cell_type": "markdown",
   "id": "5ab6cd5a",
   "metadata": {},
   "source": [
    "# Convex Hull Gift Wrapping"
   ]
  },
  {
   "cell_type": "markdown",
   "id": "9b3fe5f7",
   "metadata": {},
   "source": [
    "<p>Este algoritmo es los mas intuitivos y faciles entender ademas de implementar se base en la idea de envolver un regalo.</p>\n",
    "<p> Nosotros ponemos el papel de regalo debajo del objeto a envolver y lo vamos rodeando hasta cubrir el ragalo de manera completa, es la idea detras del funcionamiento de este algoritmo.</p>"
   ]
  },
  {
   "cell_type": "markdown",
   "id": "cc662e34",
   "metadata": {},
   "source": [
    "<h3>Pseudo-C&oacute;digo</h3>"
   ]
  },
  {
   "cell_type": "markdown",
   "id": "42a50992",
   "metadata": {},
   "source": [
    "<img src=\"./Images/GiftWrappingPseudoCodigo.png\" />"
   ]
  },
  {
   "cell_type": "markdown",
   "id": "2db09579",
   "metadata": {},
   "source": [
    "<h3>Time Complexity</h3>"
   ]
  },
  {
   "cell_type": "markdown",
   "id": "e145c168",
   "metadata": {},
   "source": [
    "<p>En el peor de los caosos m siendo los puntos del Hull y n el numero total de puntos:</p>\n",
    "$$\\mathcal{O}(n * m)$$\n",
    "<p>Suponineod que todos los puntos sean del Hull seria:</p>\n",
    "$$\\mathcal{O}(n^{2})$$"
   ]
  },
  {
   "cell_type": "markdown",
   "id": "2a1d6ba1",
   "metadata": {},
   "source": [
    "<h3>Example</h3>"
   ]
  },
  {
   "cell_type": "markdown",
   "id": "2669df16",
   "metadata": {},
   "source": [
    "<img src=\"./Images/Gif/gift-wrapping.gif\" />"
   ]
  },
  {
   "cell_type": "markdown",
   "id": "5e2bcb28",
   "metadata": {},
   "source": [
    "<h3>Implementaci&oacute;n en Julia</h3>"
   ]
  },
  {
   "cell_type": "code",
   "execution_count": null,
   "id": "f66d0b34",
   "metadata": {},
   "outputs": [],
   "source": [
    "Points = readPoints(\"./Ejemplos/giftWrapping.txt\")"
   ]
  },
  {
   "cell_type": "code",
   "execution_count": null,
   "id": "918c5fb9",
   "metadata": {},
   "outputs": [],
   "source": [
    "showPoints(Points)"
   ]
  },
  {
   "cell_type": "code",
   "execution_count": null,
   "id": "1e333ef5",
   "metadata": {},
   "outputs": [],
   "source": [
    "GiftWrapping = convexHullGiftWrapping(Points)"
   ]
  },
  {
   "cell_type": "code",
   "execution_count": null,
   "id": "4726575f",
   "metadata": {},
   "outputs": [],
   "source": [
    "showConvexHull(GiftWrapping, Points)"
   ]
  },
  {
   "cell_type": "markdown",
   "id": "c4405cd5",
   "metadata": {},
   "source": [
    " # Quick Hull"
   ]
  },
  {
   "cell_type": "markdown",
   "id": "9cf0f3c1",
   "metadata": {},
   "source": [
    "<p>Este algoritmo se basa en el ordenamiento de QuickSort para ir eligiendo los puntos que pertenecen al convex hull, Comineza eligiendo los puntos extremos de conjunto de datos luego con eso formar una recta y elegir los dos puntos m&aacute;s extremos a esa recta del lado derecho y lado izquierdo y con eso repetir.</p>"
   ]
  },
  {
   "cell_type": "markdown",
   "id": "700934b2",
   "metadata": {},
   "source": [
    " <h3>Pseudo-C&oacute;digo</h3>"
   ]
  },
  {
   "cell_type": "markdown",
   "id": "798292be",
   "metadata": {},
   "source": [
    "<img src=\"./Images/QuickHullPseudoCodigo.png\" />"
   ]
  },
  {
   "cell_type": "markdown",
   "id": "2c3f700a",
   "metadata": {},
   "source": [
    "<h3>Time Complexity</h3>"
   ]
  },
  {
   "cell_type": "markdown",
   "id": "3ea0a958",
   "metadata": {},
   "source": [
    "<p>Al igual que en QuickSort :</p>\n",
    "$$\\mathcal{O}(n^{2})$$\n",
    "<p>En un caso intermedio:</p>\n",
    "$$\\mathcal{O}(n\\log{}n)$$"
   ]
  },
  {
   "cell_type": "markdown",
   "id": "31c67021",
   "metadata": {},
   "source": [
    "<h3>Example</h3>"
   ]
  },
  {
   "cell_type": "markdown",
   "id": "e13c2dbe",
   "metadata": {},
   "source": [
    "<img src=\"./Images/Gif/QuickHull.gif\" />"
   ]
  },
  {
   "cell_type": "markdown",
   "id": "b4c7c370",
   "metadata": {},
   "source": [
    "<h3>Implementaci&oacute;n en Julia</h3>"
   ]
  },
  {
   "cell_type": "code",
   "execution_count": null,
   "id": "c7532eeb",
   "metadata": {},
   "outputs": [],
   "source": [
    "Points = readPoints(\"./Ejemplos/quickHull.txt\")"
   ]
  },
  {
   "cell_type": "code",
   "execution_count": null,
   "id": "dc86d142",
   "metadata": {},
   "outputs": [],
   "source": [
    "showPoints(Points)"
   ]
  },
  {
   "cell_type": "code",
   "execution_count": null,
   "id": "1181a80d",
   "metadata": {},
   "outputs": [],
   "source": [
    "QuickHull = convexHullQuickHull(Points)"
   ]
  },
  {
   "cell_type": "code",
   "execution_count": null,
   "id": "993abbfa",
   "metadata": {},
   "outputs": [],
   "source": [
    "showConvexHull(QuickHull, Points)"
   ]
  },
  {
   "cell_type": "markdown",
   "id": "7a30c91c",
   "metadata": {},
   "source": [
    "## Referencias"
   ]
  },
  {
   "cell_type": "markdown",
   "id": "54a95bf7",
   "metadata": {},
   "source": [
    "<div>\n",
    "    <ol>\n",
    "        <li>\n",
    "            <p>\n",
    "                Cormen, T. H., Leiserson, C. E., Rivest, R. L., & Stein, C. (2009). Introduction to Algorithms (3rd ed.). MIT Press.\n",
    "            </p>\n",
    "        </li>\n",
    "        <li>\n",
    "            <p>\n",
    "                O’Rourke, O. C. S. J. (1998). Computational Geometry in C (2nd Revised ed.). Cambridge University Press.\n",
    "            </p>\n",
    "        </li>\n",
    "        <li>\n",
    "            <p>\n",
    "                Wikipedia contributors. (2021, 26 octubre). Quickhull. Wikipedia. Recuperado 5 de junio de 2022, de <a href=\"https://en.wikipedia.org/wiki/Quickhull\">https://en.wikipedia.org/wiki/Quickhull</a>\n",
    "            </p>\n",
    "        </li>\n",
    "        <li>\n",
    "            <p>\n",
    "                colaboradores de Wikipedia. (2021, 7 mayo). Método de Graham. Wikipedia, la enciclopedia libre. Recuperado 5 de junio de 2022, de <a href=\"https://es.wikipedia.org/wiki/M%C3%A9todo_de_Graham\" >https://es.wikipedia.org/wiki/M%C3%A9todo_de_Graham</a>\n",
    "            </p>\n",
    "        </li>\n",
    "        <li>\n",
    "            <p>\n",
    "                Wikipedia contributors. (2021a, febrero 22). Gift wrapping algorithm. Wikipedia. Recuperado 5 de junio de 2022, de <a href=\"https://en.wikipedia.org/wiki/Gift_wrapping_algorithm\"> https://en.wikipedia.org/wiki/Gift_wrapping_algorithm</a>\n",
    "            </p>\n",
    "        </li>\n",
    "    </ol>\n",
    "</div>"
   ]
  }
 ],
 "metadata": {
  "kernelspec": {
   "display_name": "Julia 1.7.2",
   "language": "julia",
   "name": "julia-1.7"
  },
  "language_info": {
   "file_extension": ".jl",
   "mimetype": "application/julia",
   "name": "julia",
   "version": "1.7.2"
  }
 },
 "nbformat": 4,
 "nbformat_minor": 5
}
