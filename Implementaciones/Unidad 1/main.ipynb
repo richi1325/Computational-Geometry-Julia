{
 "cells": [
  {
   "cell_type": "code",
   "execution_count": null,
   "id": "d2b49891-31c3-467b-8a39-4b0246b8a299",
   "metadata": {},
   "outputs": [],
   "source": [
    "#Bibliotecas\n",
    "include(\"../../modules/Polygon/polygon.jl\")"
   ]
  },
  {
   "cell_type": "markdown",
   "id": "6c0d56d8-0632-403c-b9dd-cdbabb5ced0c",
   "metadata": {},
   "source": [
    "# Polígonos y Triangulaciones"
   ]
  },
  {
   "cell_type": "markdown",
   "id": "2096b91c",
   "metadata": {},
   "source": [
    "El polígono puede ser ingresado empezando por cualquier punto del polígono pero es sumamente importante que los puntos se ingresen en **sentido antihorario**, de cualquier otra forma el programa fallará, en la carpeta `Ejemplos` se encuentran las configuracione de algunos polígonos para probar este notebook."
   ]
  },
  {
   "cell_type": "markdown",
   "id": "d97361e2",
   "metadata": {},
   "source": [
    "## Polígono"
   ]
  },
  {
   "cell_type": "code",
   "execution_count": null,
   "id": "2f879a72-a29a-4cf2-96ad-621948c63fcf",
   "metadata": {},
   "outputs": [],
   "source": [
    "#Comenzamos instanciando un objeto de nuestra estructura polígno, el cuál esta vacío\n",
    "pol = Polygon()"
   ]
  },
  {
   "cell_type": "code",
   "execution_count": null,
   "id": "7dc02995-53c6-4d38-8dd0-56eab1b3b24f",
   "metadata": {},
   "outputs": [],
   "source": [
    "#Para facilitar cargar los datos para el usuario la función Insertar de nuestro polígono\n",
    "#se encarga de leer un conjunto de puntos en sentido antihorario de un archivo de texto\n",
    "#es necesario especificar la ruta de nuestro archivo y con esto el polígono será cargado\n",
    "pol.Insertar(\"./Ejemplos/Ejemplo_6.txt\")"
   ]
  },
  {
   "cell_type": "code",
   "execution_count": null,
   "id": "88f84483",
   "metadata": {},
   "outputs": [],
   "source": [
    "#Si queremos visualizar nuestro polígono podemos recurrir al siguiente método:\n",
    "pol.Plot()"
   ]
  },
  {
   "cell_type": "markdown",
   "id": "3e166bef",
   "metadata": {},
   "source": [
    "## Área del polígono\n",
    "La magnitud del producto vectorial de dos vectores es el área del paralelogramo que determinan: Si $A$ y $B$ son vectores, entonces $| A \\times B |$ es el área del paralelogramo de lados $A$ y $B$\n",
    "\n",
    "<center><img src=\"./Images/fig-1.png\" alt=\"Paralelogramo\"></center>\n",
    "\n",
    "Ya que\n",
    "cualquier triángulo se puede ver como la mitad de un paralelogramo, esto brinda un método para calcular el área a partir de coordenadas. Sea $A = b — a$ y $B = c — a$. Entonces el área es la mitad de la longitud de $A \\times B$.\n",
    "  \n",
    "El producto vectorial se puede calcular a partir del siguiente determinante, donde $\\hat{i}$, $\\hat{j}$ y $\\hat{k}$ son vectores unitarios en las direcciones $x$, $y$ y $z$.\n",
    "$$\n",
    "  A = \n",
    "  \\begin{vmatrix}\n",
    "    \\hat{i} & \\hat{j} & \\hat{k}\\\\\n",
    "    A_0 & A_1 & A_2\\\\\n",
    "    B_0 & B_1 & B_2\n",
    "  \\end{vmatrix} = (A_1B_2-A_2B_1)\\hat{i} + (A_2B_0-A_0B_2)\\hat{j} + (A_0B_1-A_1B_0)\\hat{k}\n",
    "$$\n",
    "\n",
    "Para vectores bidimensionales, $A2 = B2 = 0$, por lo que el cálculo anterior se reduce a:\n",
    "$$A(T)=\\frac{1}{2}(A_0B_1-A_1B_0)$$\n",
    "\n",
    "Sustituyendo $A = b — a$ y $B = c — a$ se tiene:\n",
    "$$A(T)=\\frac{1}{2}[(b_0-a_0)(c_1-a_1)-(c_0-a_0)(b_1-a_1)]$$\n",
    "\n",
    "_NOTA.- Si desea detallar en la implementación de este o el resto de funciones puede revisar el módulo `Polygon` dentro de la carpeta `modules` que se encuentra en la raíz del proyecto._"
   ]
  },
  {
   "cell_type": "code",
   "execution_count": null,
   "id": "1cc2abe5-fccb-4586-9d59-afb4b82f1cb0",
   "metadata": {},
   "outputs": [],
   "source": [
    "#Para calcular el área de nuestro polígono simplemente hacemos uso de la siguiente función:\n",
    "pol.Area()"
   ]
  },
  {
   "cell_type": "markdown",
   "id": "a2dfbc47",
   "metadata": {},
   "source": [
    "## Triangulación\n",
    "Finalmente se hace una cuidadosa implementación del código mostrado en el libro: \"J. O’Rourke (1998), Computational Geometry In C, Cambridge University Press.\", pero adaptado al lenguaje Julia, si desea profundizar en más detalles del algoritmo puede revisar el `Capítulo 1`, especialmente en la sección `1.4 IMPLEMENTATION ISSUES`"
   ]
  },
  {
   "cell_type": "code",
   "execution_count": null,
   "id": "a97b0bdd-60a6-427a-a056-56a5ec280512",
   "metadata": {},
   "outputs": [],
   "source": [
    "#De la misma forma intuitiva, para triangular el polígono simplemente hacemos uso de la siguiente función:\n",
    "pol.Triangular()\n",
    "#Si no desea ver la triangulación y sólo desea los segmentos puede incluir el argumento false dentro de la función Triangular()"
   ]
  },
  {
   "cell_type": "markdown",
   "id": "88daed26",
   "metadata": {},
   "source": [
    "# Conclusiones\n",
    "Al ser nuestro primer acercamiento con el lenguaje resultó un poco complicado hacer la transición en primera instancia de lo mostrado en el libro en el lenguaje C a Julia, estudiando las capacidades y bondades del lenguaje Julia, pudimos agregar la clase BigInt que permite manipular números enteros más grandes que los que se representan habitualmente en otros lenguajes, dándole una robustes extra a nuestro algoritmo cuando se trata de puntos con unidades grandes, la librería Plots por otro lado nos permitió hacer gráficas efectivas y en poco tiempo para que los algoritmos sean más visuales y amigables para nuestros usuarios finales.\n",
    "  \n",
    "Una limitación al principio fue el de cómo construir nuestras estructuras de datos debido a que Julia no cuenta con manipulación de punteros, sin embargo, pudimos hacer uso de las `mutable struct` que son equivalentes a las `clases` en lenguajes de programación orientados a objetos, lo cuál nos permitió mediante referencias circulares a la misma estructura poder construir nuestros \"punteros\" en Julia.\n",
    "\n",
    "El siguiente post nos ayudó mucho a entender las `mutable structs` en Julia, por lo que recomendamos ampliamente revisar su contenido si desea comprender a mejor medida lo que se hizo en esta implementación: https://acmion.com/blog/programming/2021-05-29-julia-oop/ "
   ]
  }
 ],
 "metadata": {
  "kernelspec": {
   "display_name": "Julia 1.7.1",
   "language": "julia",
   "name": "julia-1.7"
  },
  "language_info": {
   "file_extension": ".jl",
   "mimetype": "application/julia",
   "name": "julia",
   "version": "1.7.1"
  }
 },
 "nbformat": 4,
 "nbformat_minor": 5
}
