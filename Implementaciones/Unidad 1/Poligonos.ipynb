{
 "cells": [
  {
   "cell_type": "code",
   "execution_count": 1,
   "id": "d2b49891-31c3-467b-8a39-4b0246b8a299",
   "metadata": {},
   "outputs": [],
   "source": [
    "#Bibliotecas\n",
    "include(\"../../modules/Polygon/polygon.jl\")"
   ]
  },
  {
   "cell_type": "markdown",
   "id": "6c0d56d8-0632-403c-b9dd-cdbabb5ced0c",
   "metadata": {},
   "source": [
    "# Implementación de polígonos y triangulación"
   ]
  },
  {
   "cell_type": "code",
   "execution_count": 6,
   "id": "2f879a72-a29a-4cf2-96ad-621948c63fcf",
   "metadata": {},
   "outputs": [
    {
     "data": {
      "text/plain": [
       "Polygon(0, Vertex(nothing, nothing, nothing, nothing, nothing))"
      ]
     },
     "execution_count": 6,
     "metadata": {},
     "output_type": "execute_result"
    }
   ],
   "source": [
    "pol = Polygon()"
   ]
  },
  {
   "cell_type": "code",
   "execution_count": 13,
   "id": "7dc02995-53c6-4d38-8dd0-56eab1b3b24f",
   "metadata": {},
   "outputs": [],
   "source": [
    "pol.Insertar(\"Ejemplo_2.txt\")"
   ]
  },
  {
   "cell_type": "code",
   "execution_count": 14,
   "id": "1cc2abe5-fccb-4586-9d59-afb4b82f1cb0",
   "metadata": {},
   "outputs": [
    {
     "data": {
      "text/plain": [
       "90.5"
      ]
     },
     "execution_count": 14,
     "metadata": {},
     "output_type": "execute_result"
    }
   ],
   "source": [
    "pol.Area()"
   ]
  },
  {
   "cell_type": "code",
   "execution_count": 15,
   "id": "a97b0bdd-60a6-427a-a056-56a5ec280512",
   "metadata": {},
   "outputs": [
    {
     "data": {
      "image/svg+xml": [
       "<?xml version=\"1.0\" encoding=\"utf-8\"?>\n",
       "<svg xmlns=\"http://www.w3.org/2000/svg\" xmlns:xlink=\"http://www.w3.org/1999/xlink\" width=\"600\" height=\"400\" viewBox=\"0 0 2400 1600\">\n",
       "<defs>\n",
       "  <clipPath id=\"clip610\">\n",
       "    <rect x=\"0\" y=\"0\" width=\"2400\" height=\"1600\"/>\n",
       "  </clipPath>\n",
       "</defs>\n",
       "<path clip-path=\"url(#clip610)\" d=\"\n",
       "M0 1600 L2400 1600 L2400 0 L0 0  Z\n",
       "  \" fill=\"#ffffff\" fill-rule=\"evenodd\" fill-opacity=\"1\"/>\n",
       "<defs>\n",
       "  <clipPath id=\"clip611\">\n",
       "    <rect x=\"480\" y=\"0\" width=\"1681\" height=\"1600\"/>\n",
       "  </clipPath>\n",
       "</defs>\n",
       "<path clip-path=\"url(#clip610)\" d=\"\n",
       "M193.936 1486.45 L2352.76 1486.45 L2352.76 47.2441 L193.936 47.2441  Z\n",
       "  \" fill=\"#ffffff\" fill-rule=\"evenodd\" fill-opacity=\"1\"/>\n",
       "<defs>\n",
       "  <clipPath id=\"clip612\">\n",
       "    <rect x=\"193\" y=\"47\" width=\"2160\" height=\"1440\"/>\n",
       "  </clipPath>\n",
       "</defs>\n",
       "<polyline clip-path=\"url(#clip612)\" style=\"stroke:#000000; stroke-linecap:butt; stroke-linejoin:round; stroke-width:2; stroke-opacity:0.1; fill:none\" points=\"\n",
       "  594.472,1486.45 594.472,47.2441 \n",
       "  \"/>\n",
       "<polyline clip-path=\"url(#clip612)\" style=\"stroke:#000000; stroke-linecap:butt; stroke-linejoin:round; stroke-width:2; stroke-opacity:0.1; fill:none\" points=\"\n",
       "  1018.77,1486.45 1018.77,47.2441 \n",
       "  \"/>\n",
       "<polyline clip-path=\"url(#clip612)\" style=\"stroke:#000000; stroke-linecap:butt; stroke-linejoin:round; stroke-width:2; stroke-opacity:0.1; fill:none\" points=\"\n",
       "  1443.06,1486.45 1443.06,47.2441 \n",
       "  \"/>\n",
       "<polyline clip-path=\"url(#clip612)\" style=\"stroke:#000000; stroke-linecap:butt; stroke-linejoin:round; stroke-width:2; stroke-opacity:0.1; fill:none\" points=\"\n",
       "  1867.36,1486.45 1867.36,47.2441 \n",
       "  \"/>\n",
       "<polyline clip-path=\"url(#clip612)\" style=\"stroke:#000000; stroke-linecap:butt; stroke-linejoin:round; stroke-width:2; stroke-opacity:0.1; fill:none\" points=\"\n",
       "  2291.66,1486.45 2291.66,47.2441 \n",
       "  \"/>\n",
       "<polyline clip-path=\"url(#clip610)\" style=\"stroke:#000000; stroke-linecap:butt; stroke-linejoin:round; stroke-width:4; stroke-opacity:1; fill:none\" points=\"\n",
       "  193.936,1486.45 2352.76,1486.45 \n",
       "  \"/>\n",
       "<polyline clip-path=\"url(#clip610)\" style=\"stroke:#000000; stroke-linecap:butt; stroke-linejoin:round; stroke-width:4; stroke-opacity:1; fill:none\" points=\"\n",
       "  594.472,1486.45 594.472,1467.55 \n",
       "  \"/>\n",
       "<polyline clip-path=\"url(#clip610)\" style=\"stroke:#000000; stroke-linecap:butt; stroke-linejoin:round; stroke-width:4; stroke-opacity:1; fill:none\" points=\"\n",
       "  1018.77,1486.45 1018.77,1467.55 \n",
       "  \"/>\n",
       "<polyline clip-path=\"url(#clip610)\" style=\"stroke:#000000; stroke-linecap:butt; stroke-linejoin:round; stroke-width:4; stroke-opacity:1; fill:none\" points=\"\n",
       "  1443.06,1486.45 1443.06,1467.55 \n",
       "  \"/>\n",
       "<polyline clip-path=\"url(#clip610)\" style=\"stroke:#000000; stroke-linecap:butt; stroke-linejoin:round; stroke-width:4; stroke-opacity:1; fill:none\" points=\"\n",
       "  1867.36,1486.45 1867.36,1467.55 \n",
       "  \"/>\n",
       "<polyline clip-path=\"url(#clip610)\" style=\"stroke:#000000; stroke-linecap:butt; stroke-linejoin:round; stroke-width:4; stroke-opacity:1; fill:none\" points=\"\n",
       "  2291.66,1486.45 2291.66,1467.55 \n",
       "  \"/>\n",
       "<path clip-path=\"url(#clip610)\" d=\"M571.856 1517.37 Q568.245 1517.37 566.416 1520.93 Q564.611 1524.47 564.611 1531.6 Q564.611 1538.71 566.416 1542.27 Q568.245 1545.82 571.856 1545.82 Q575.49 1545.82 577.296 1542.27 Q579.125 1538.71 579.125 1531.6 Q579.125 1524.47 577.296 1520.93 Q575.49 1517.37 571.856 1517.37 M571.856 1513.66 Q577.666 1513.66 580.722 1518.27 Q583.801 1522.85 583.801 1531.6 Q583.801 1540.33 580.722 1544.94 Q577.666 1549.52 571.856 1549.52 Q566.046 1549.52 562.967 1544.94 Q559.912 1540.33 559.912 1531.6 Q559.912 1522.85 562.967 1518.27 Q566.046 1513.66 571.856 1513.66 Z\" fill=\"#000000\" fill-rule=\"evenodd\" fill-opacity=\"1\" /><path clip-path=\"url(#clip610)\" d=\"M592.018 1542.97 L596.902 1542.97 L596.902 1548.85 L592.018 1548.85 L592.018 1542.97 Z\" fill=\"#000000\" fill-rule=\"evenodd\" fill-opacity=\"1\" /><path clip-path=\"url(#clip610)\" d=\"M617.087 1517.37 Q613.476 1517.37 611.648 1520.93 Q609.842 1524.47 609.842 1531.6 Q609.842 1538.71 611.648 1542.27 Q613.476 1545.82 617.087 1545.82 Q620.722 1545.82 622.527 1542.27 Q624.356 1538.71 624.356 1531.6 Q624.356 1524.47 622.527 1520.93 Q620.722 1517.37 617.087 1517.37 M617.087 1513.66 Q622.898 1513.66 625.953 1518.27 Q629.032 1522.85 629.032 1531.6 Q629.032 1540.33 625.953 1544.94 Q622.898 1549.52 617.087 1549.52 Q611.277 1549.52 608.199 1544.94 Q605.143 1540.33 605.143 1531.6 Q605.143 1522.85 608.199 1518.27 Q611.277 1513.66 617.087 1513.66 Z\" fill=\"#000000\" fill-rule=\"evenodd\" fill-opacity=\"1\" /><path clip-path=\"url(#clip610)\" d=\"M990.504 1544.91 L1006.82 1544.91 L1006.82 1548.85 L984.879 1548.85 L984.879 1544.91 Q987.541 1542.16 992.125 1537.53 Q996.731 1532.88 997.912 1531.53 Q1000.16 1529.01 1001.04 1527.27 Q1001.94 1525.51 1001.94 1523.82 Q1001.94 1521.07 999.995 1519.33 Q998.074 1517.6 994.972 1517.6 Q992.773 1517.6 990.319 1518.36 Q987.889 1519.13 985.111 1520.68 L985.111 1515.95 Q987.935 1514.82 990.389 1514.24 Q992.842 1513.66 994.879 1513.66 Q1000.25 1513.66 1003.44 1516.35 Q1006.64 1519.03 1006.64 1523.52 Q1006.64 1525.65 1005.83 1527.57 Q1005.04 1529.47 1002.93 1532.07 Q1002.36 1532.74 999.254 1535.95 Q996.153 1539.15 990.504 1544.91 Z\" fill=\"#000000\" fill-rule=\"evenodd\" fill-opacity=\"1\" /><path clip-path=\"url(#clip610)\" d=\"M1016.64 1542.97 L1021.52 1542.97 L1021.52 1548.85 L1016.64 1548.85 L1016.64 1542.97 Z\" fill=\"#000000\" fill-rule=\"evenodd\" fill-opacity=\"1\" /><path clip-path=\"url(#clip610)\" d=\"M1031.75 1514.29 L1050.11 1514.29 L1050.11 1518.22 L1036.04 1518.22 L1036.04 1526.7 Q1037.06 1526.35 1038.07 1526.19 Q1039.09 1526 1040.11 1526 Q1045.9 1526 1049.28 1529.17 Q1052.66 1532.34 1052.66 1537.76 Q1052.66 1543.34 1049.18 1546.44 Q1045.71 1549.52 1039.39 1549.52 Q1037.22 1549.52 1034.95 1549.15 Q1032.7 1548.78 1030.3 1548.04 L1030.3 1543.34 Q1032.38 1544.47 1034.6 1545.03 Q1036.82 1545.58 1039.3 1545.58 Q1043.31 1545.58 1045.64 1543.48 Q1047.98 1541.37 1047.98 1537.76 Q1047.98 1534.15 1045.64 1532.04 Q1043.31 1529.94 1039.3 1529.94 Q1037.43 1529.94 1035.55 1530.35 Q1033.7 1530.77 1031.75 1531.65 L1031.75 1514.29 Z\" fill=\"#000000\" fill-rule=\"evenodd\" fill-opacity=\"1\" /><path clip-path=\"url(#clip610)\" d=\"M1410.23 1514.29 L1428.59 1514.29 L1428.59 1518.22 L1414.51 1518.22 L1414.51 1526.7 Q1415.53 1526.35 1416.55 1526.19 Q1417.57 1526 1418.59 1526 Q1424.37 1526 1427.75 1529.17 Q1431.13 1532.34 1431.13 1537.76 Q1431.13 1543.34 1427.66 1546.44 Q1424.19 1549.52 1417.87 1549.52 Q1415.69 1549.52 1413.42 1549.15 Q1411.18 1548.78 1408.77 1548.04 L1408.77 1543.34 Q1410.85 1544.47 1413.08 1545.03 Q1415.3 1545.58 1417.78 1545.58 Q1421.78 1545.58 1424.12 1543.48 Q1426.46 1541.37 1426.46 1537.76 Q1426.46 1534.15 1424.12 1532.04 Q1421.78 1529.94 1417.78 1529.94 Q1415.9 1529.94 1414.03 1530.35 Q1412.17 1530.77 1410.23 1531.65 L1410.23 1514.29 Z\" fill=\"#000000\" fill-rule=\"evenodd\" fill-opacity=\"1\" /><path clip-path=\"url(#clip610)\" d=\"M1440.34 1542.97 L1445.23 1542.97 L1445.23 1548.85 L1440.34 1548.85 L1440.34 1542.97 Z\" fill=\"#000000\" fill-rule=\"evenodd\" fill-opacity=\"1\" /><path clip-path=\"url(#clip610)\" d=\"M1465.41 1517.37 Q1461.8 1517.37 1459.97 1520.93 Q1458.17 1524.47 1458.17 1531.6 Q1458.17 1538.71 1459.97 1542.27 Q1461.8 1545.82 1465.41 1545.82 Q1469.05 1545.82 1470.85 1542.27 Q1472.68 1538.71 1472.68 1531.6 Q1472.68 1524.47 1470.85 1520.93 Q1469.05 1517.37 1465.41 1517.37 M1465.41 1513.66 Q1471.22 1513.66 1474.28 1518.27 Q1477.36 1522.85 1477.36 1531.6 Q1477.36 1540.33 1474.28 1544.94 Q1471.22 1549.52 1465.41 1549.52 Q1459.6 1549.52 1456.53 1544.94 Q1453.47 1540.33 1453.47 1531.6 Q1453.47 1522.85 1456.53 1518.27 Q1459.6 1513.66 1465.41 1513.66 Z\" fill=\"#000000\" fill-rule=\"evenodd\" fill-opacity=\"1\" /><path clip-path=\"url(#clip610)\" d=\"M1833.68 1514.29 L1855.9 1514.29 L1855.9 1516.28 L1843.36 1548.85 L1838.47 1548.85 L1850.28 1518.22 L1833.68 1518.22 L1833.68 1514.29 Z\" fill=\"#000000\" fill-rule=\"evenodd\" fill-opacity=\"1\" /><path clip-path=\"url(#clip610)\" d=\"M1865.02 1542.97 L1869.91 1542.97 L1869.91 1548.85 L1865.02 1548.85 L1865.02 1542.97 Z\" fill=\"#000000\" fill-rule=\"evenodd\" fill-opacity=\"1\" /><path clip-path=\"url(#clip610)\" d=\"M1880.14 1514.29 L1898.49 1514.29 L1898.49 1518.22 L1884.42 1518.22 L1884.42 1526.7 Q1885.44 1526.35 1886.46 1526.19 Q1887.48 1526 1888.5 1526 Q1894.28 1526 1897.66 1529.17 Q1901.04 1532.34 1901.04 1537.76 Q1901.04 1543.34 1897.57 1546.44 Q1894.1 1549.52 1887.78 1549.52 Q1885.6 1549.52 1883.33 1549.15 Q1881.09 1548.78 1878.68 1548.04 L1878.68 1543.34 Q1880.76 1544.47 1882.99 1545.03 Q1885.21 1545.58 1887.68 1545.58 Q1891.69 1545.58 1894.03 1543.48 Q1896.37 1541.37 1896.37 1537.76 Q1896.37 1534.15 1894.03 1532.04 Q1891.69 1529.94 1887.68 1529.94 Q1885.81 1529.94 1883.93 1530.35 Q1882.08 1530.77 1880.14 1531.65 L1880.14 1514.29 Z\" fill=\"#000000\" fill-rule=\"evenodd\" fill-opacity=\"1\" /><path clip-path=\"url(#clip610)\" d=\"M2243.73 1544.91 L2251.37 1544.91 L2251.37 1518.55 L2243.06 1520.21 L2243.06 1515.95 L2251.32 1514.29 L2256 1514.29 L2256 1544.91 L2263.64 1544.91 L2263.64 1548.85 L2243.73 1548.85 L2243.73 1544.91 Z\" fill=\"#000000\" fill-rule=\"evenodd\" fill-opacity=\"1\" /><path clip-path=\"url(#clip610)\" d=\"M2283.08 1517.37 Q2279.47 1517.37 2277.64 1520.93 Q2275.84 1524.47 2275.84 1531.6 Q2275.84 1538.71 2277.64 1542.27 Q2279.47 1545.82 2283.08 1545.82 Q2286.72 1545.82 2288.52 1542.27 Q2290.35 1538.71 2290.35 1531.6 Q2290.35 1524.47 2288.52 1520.93 Q2286.72 1517.37 2283.08 1517.37 M2283.08 1513.66 Q2288.89 1513.66 2291.95 1518.27 Q2295.03 1522.85 2295.03 1531.6 Q2295.03 1540.33 2291.95 1544.94 Q2288.89 1549.52 2283.08 1549.52 Q2277.27 1549.52 2274.19 1544.94 Q2271.14 1540.33 2271.14 1531.6 Q2271.14 1522.85 2274.19 1518.27 Q2277.27 1513.66 2283.08 1513.66 Z\" fill=\"#000000\" fill-rule=\"evenodd\" fill-opacity=\"1\" /><path clip-path=\"url(#clip610)\" d=\"M2303.24 1542.97 L2308.13 1542.97 L2308.13 1548.85 L2303.24 1548.85 L2303.24 1542.97 Z\" fill=\"#000000\" fill-rule=\"evenodd\" fill-opacity=\"1\" /><path clip-path=\"url(#clip610)\" d=\"M2328.31 1517.37 Q2324.7 1517.37 2322.87 1520.93 Q2321.07 1524.47 2321.07 1531.6 Q2321.07 1538.71 2322.87 1542.27 Q2324.7 1545.82 2328.31 1545.82 Q2331.95 1545.82 2333.75 1542.27 Q2335.58 1538.71 2335.58 1531.6 Q2335.58 1524.47 2333.75 1520.93 Q2331.95 1517.37 2328.31 1517.37 M2328.31 1513.66 Q2334.12 1513.66 2337.18 1518.27 Q2340.26 1522.85 2340.26 1531.6 Q2340.26 1540.33 2337.18 1544.94 Q2334.12 1549.52 2328.31 1549.52 Q2322.5 1549.52 2319.42 1544.94 Q2316.37 1540.33 2316.37 1531.6 Q2316.37 1522.85 2319.42 1518.27 Q2322.5 1513.66 2328.31 1513.66 Z\" fill=\"#000000\" fill-rule=\"evenodd\" fill-opacity=\"1\" /><polyline clip-path=\"url(#clip612)\" style=\"stroke:#000000; stroke-linecap:butt; stroke-linejoin:round; stroke-width:2; stroke-opacity:0.1; fill:none\" points=\"\n",
       "  193.936,1397.22 2352.76,1397.22 \n",
       "  \"/>\n",
       "<polyline clip-path=\"url(#clip612)\" style=\"stroke:#000000; stroke-linecap:butt; stroke-linejoin:round; stroke-width:2; stroke-opacity:0.1; fill:none\" points=\"\n",
       "  193.936,1154.77 2352.76,1154.77 \n",
       "  \"/>\n",
       "<polyline clip-path=\"url(#clip612)\" style=\"stroke:#000000; stroke-linecap:butt; stroke-linejoin:round; stroke-width:2; stroke-opacity:0.1; fill:none\" points=\"\n",
       "  193.936,912.318 2352.76,912.318 \n",
       "  \"/>\n",
       "<polyline clip-path=\"url(#clip612)\" style=\"stroke:#000000; stroke-linecap:butt; stroke-linejoin:round; stroke-width:2; stroke-opacity:0.1; fill:none\" points=\"\n",
       "  193.936,669.865 2352.76,669.865 \n",
       "  \"/>\n",
       "<polyline clip-path=\"url(#clip612)\" style=\"stroke:#000000; stroke-linecap:butt; stroke-linejoin:round; stroke-width:2; stroke-opacity:0.1; fill:none\" points=\"\n",
       "  193.936,427.411 2352.76,427.411 \n",
       "  \"/>\n",
       "<polyline clip-path=\"url(#clip612)\" style=\"stroke:#000000; stroke-linecap:butt; stroke-linejoin:round; stroke-width:2; stroke-opacity:0.1; fill:none\" points=\"\n",
       "  193.936,184.958 2352.76,184.958 \n",
       "  \"/>\n",
       "<polyline clip-path=\"url(#clip610)\" style=\"stroke:#000000; stroke-linecap:butt; stroke-linejoin:round; stroke-width:4; stroke-opacity:1; fill:none\" points=\"\n",
       "  193.936,1486.45 193.936,47.2441 \n",
       "  \"/>\n",
       "<polyline clip-path=\"url(#clip610)\" style=\"stroke:#000000; stroke-linecap:butt; stroke-linejoin:round; stroke-width:4; stroke-opacity:1; fill:none\" points=\"\n",
       "  193.936,1397.22 212.834,1397.22 \n",
       "  \"/>\n",
       "<polyline clip-path=\"url(#clip610)\" style=\"stroke:#000000; stroke-linecap:butt; stroke-linejoin:round; stroke-width:4; stroke-opacity:1; fill:none\" points=\"\n",
       "  193.936,1154.77 212.834,1154.77 \n",
       "  \"/>\n",
       "<polyline clip-path=\"url(#clip610)\" style=\"stroke:#000000; stroke-linecap:butt; stroke-linejoin:round; stroke-width:4; stroke-opacity:1; fill:none\" points=\"\n",
       "  193.936,912.318 212.834,912.318 \n",
       "  \"/>\n",
       "<polyline clip-path=\"url(#clip610)\" style=\"stroke:#000000; stroke-linecap:butt; stroke-linejoin:round; stroke-width:4; stroke-opacity:1; fill:none\" points=\"\n",
       "  193.936,669.865 212.834,669.865 \n",
       "  \"/>\n",
       "<polyline clip-path=\"url(#clip610)\" style=\"stroke:#000000; stroke-linecap:butt; stroke-linejoin:round; stroke-width:4; stroke-opacity:1; fill:none\" points=\"\n",
       "  193.936,427.411 212.834,427.411 \n",
       "  \"/>\n",
       "<polyline clip-path=\"url(#clip610)\" style=\"stroke:#000000; stroke-linecap:butt; stroke-linejoin:round; stroke-width:4; stroke-opacity:1; fill:none\" points=\"\n",
       "  193.936,184.958 212.834,184.958 \n",
       "  \"/>\n",
       "<path clip-path=\"url(#clip610)\" d=\"M51.9875 1397.68 L81.6633 1397.68 L81.6633 1401.61 L51.9875 1401.61 L51.9875 1397.68 Z\" fill=\"#000000\" fill-rule=\"evenodd\" fill-opacity=\"1\" /><path clip-path=\"url(#clip610)\" d=\"M90.5752 1379.94 L112.797 1379.94 L112.797 1381.94 L100.251 1414.5 L95.3669 1414.5 L107.172 1383.88 L90.5752 1383.88 L90.5752 1379.94 Z\" fill=\"#000000\" fill-rule=\"evenodd\" fill-opacity=\"1\" /><path clip-path=\"url(#clip610)\" d=\"M121.918 1408.63 L126.802 1408.63 L126.802 1414.5 L121.918 1414.5 L121.918 1408.63 Z\" fill=\"#000000\" fill-rule=\"evenodd\" fill-opacity=\"1\" /><path clip-path=\"url(#clip610)\" d=\"M137.033 1379.94 L155.39 1379.94 L155.39 1383.88 L141.316 1383.88 L141.316 1392.35 Q142.334 1392.01 143.353 1391.84 Q144.371 1391.66 145.39 1391.66 Q151.177 1391.66 154.556 1394.83 Q157.936 1398 157.936 1403.42 Q157.936 1409 154.464 1412.1 Q150.992 1415.18 144.672 1415.18 Q142.496 1415.18 140.228 1414.81 Q137.982 1414.44 135.575 1413.69 L135.575 1409 Q137.658 1410.13 139.881 1410.69 Q142.103 1411.24 144.58 1411.24 Q148.584 1411.24 150.922 1409.13 Q153.26 1407.03 153.26 1403.42 Q153.26 1399.81 150.922 1397.7 Q148.584 1395.59 144.58 1395.59 Q142.705 1395.59 140.83 1396.01 Q138.978 1396.43 137.033 1397.31 L137.033 1379.94 Z\" fill=\"#000000\" fill-rule=\"evenodd\" fill-opacity=\"1\" /><path clip-path=\"url(#clip610)\" d=\"M50.9921 1155.22 L80.6679 1155.22 L80.6679 1159.16 L50.9921 1159.16 L50.9921 1155.22 Z\" fill=\"#000000\" fill-rule=\"evenodd\" fill-opacity=\"1\" /><path clip-path=\"url(#clip610)\" d=\"M90.8067 1137.49 L109.163 1137.49 L109.163 1141.43 L95.0891 1141.43 L95.0891 1149.9 Q96.1076 1149.55 97.1261 1149.39 Q98.1447 1149.2 99.1632 1149.2 Q104.95 1149.2 108.33 1152.38 Q111.709 1155.55 111.709 1160.96 Q111.709 1166.54 108.237 1169.64 Q104.765 1172.72 98.4456 1172.72 Q96.2697 1172.72 94.0012 1172.35 Q91.7558 1171.98 89.3484 1171.24 L89.3484 1166.54 Q91.4317 1167.68 93.6539 1168.23 Q95.8761 1168.79 98.353 1168.79 Q102.358 1168.79 104.696 1166.68 Q107.033 1164.57 107.033 1160.96 Q107.033 1157.35 104.696 1155.25 Q102.358 1153.14 98.353 1153.14 Q96.478 1153.14 94.603 1153.56 Q92.7512 1153.97 90.8067 1154.85 L90.8067 1137.49 Z\" fill=\"#000000\" fill-rule=\"evenodd\" fill-opacity=\"1\" /><path clip-path=\"url(#clip610)\" d=\"M120.922 1166.17 L125.807 1166.17 L125.807 1172.05 L120.922 1172.05 L120.922 1166.17 Z\" fill=\"#000000\" fill-rule=\"evenodd\" fill-opacity=\"1\" /><path clip-path=\"url(#clip610)\" d=\"M145.992 1140.57 Q142.381 1140.57 140.552 1144.14 Q138.746 1147.68 138.746 1154.81 Q138.746 1161.91 140.552 1165.48 Q142.381 1169.02 145.992 1169.02 Q149.626 1169.02 151.431 1165.48 Q153.26 1161.91 153.26 1154.81 Q153.26 1147.68 151.431 1144.14 Q149.626 1140.57 145.992 1140.57 M145.992 1136.87 Q151.802 1136.87 154.857 1141.47 Q157.936 1146.06 157.936 1154.81 Q157.936 1163.53 154.857 1168.14 Q151.802 1172.72 145.992 1172.72 Q140.181 1172.72 137.103 1168.14 Q134.047 1163.53 134.047 1154.81 Q134.047 1146.06 137.103 1141.47 Q140.181 1136.87 145.992 1136.87 Z\" fill=\"#000000\" fill-rule=\"evenodd\" fill-opacity=\"1\" /><path clip-path=\"url(#clip610)\" d=\"M51.9875 912.769 L81.6633 912.769 L81.6633 916.705 L51.9875 916.705 L51.9875 912.769 Z\" fill=\"#000000\" fill-rule=\"evenodd\" fill-opacity=\"1\" /><path clip-path=\"url(#clip610)\" d=\"M95.7836 925.663 L112.103 925.663 L112.103 929.598 L90.1586 929.598 L90.1586 925.663 Q92.8206 922.908 97.4039 918.279 Q102.01 913.626 103.191 912.283 Q105.436 909.76 106.316 908.024 Q107.219 906.265 107.219 904.575 Q107.219 901.82 105.274 900.084 Q103.353 898.348 100.251 898.348 Q98.0521 898.348 95.5984 899.112 Q93.1678 899.876 90.3901 901.427 L90.3901 896.705 Q93.2141 895.57 95.6678 894.992 Q98.1215 894.413 100.159 894.413 Q105.529 894.413 108.723 897.098 Q111.918 899.783 111.918 904.274 Q111.918 906.404 111.108 908.325 Q110.321 910.223 108.214 912.816 Q107.635 913.487 104.534 916.705 Q101.432 919.899 95.7836 925.663 Z\" fill=\"#000000\" fill-rule=\"evenodd\" fill-opacity=\"1\" /><path clip-path=\"url(#clip610)\" d=\"M121.918 923.718 L126.802 923.718 L126.802 929.598 L121.918 929.598 L121.918 923.718 Z\" fill=\"#000000\" fill-rule=\"evenodd\" fill-opacity=\"1\" /><path clip-path=\"url(#clip610)\" d=\"M137.033 895.038 L155.39 895.038 L155.39 898.973 L141.316 898.973 L141.316 907.445 Q142.334 907.098 143.353 906.936 Q144.371 906.751 145.39 906.751 Q151.177 906.751 154.556 909.922 Q157.936 913.094 157.936 918.51 Q157.936 924.089 154.464 927.191 Q150.992 930.269 144.672 930.269 Q142.496 930.269 140.228 929.899 Q137.982 929.529 135.575 928.788 L135.575 924.089 Q137.658 925.223 139.881 925.779 Q142.103 926.334 144.58 926.334 Q148.584 926.334 150.922 924.228 Q153.26 922.121 153.26 918.51 Q153.26 914.899 150.922 912.793 Q148.584 910.686 144.58 910.686 Q142.705 910.686 140.83 911.103 Q138.978 911.519 137.033 912.399 L137.033 895.038 Z\" fill=\"#000000\" fill-rule=\"evenodd\" fill-opacity=\"1\" /><path clip-path=\"url(#clip610)\" d=\"M100.76 655.663 Q97.1493 655.663 95.3206 659.228 Q93.515 662.77 93.515 669.899 Q93.515 677.006 95.3206 680.571 Q97.1493 684.112 100.76 684.112 Q104.395 684.112 106.2 680.571 Q108.029 677.006 108.029 669.899 Q108.029 662.77 106.2 659.228 Q104.395 655.663 100.76 655.663 M100.76 651.96 Q106.571 651.96 109.626 656.566 Q112.705 661.149 112.705 669.899 Q112.705 678.626 109.626 683.233 Q106.571 687.816 100.76 687.816 Q94.9502 687.816 91.8715 683.233 Q88.816 678.626 88.816 669.899 Q88.816 661.149 91.8715 656.566 Q94.9502 651.96 100.76 651.96 Z\" fill=\"#000000\" fill-rule=\"evenodd\" fill-opacity=\"1\" /><path clip-path=\"url(#clip610)\" d=\"M120.922 681.265 L125.807 681.265 L125.807 687.145 L120.922 687.145 L120.922 681.265 Z\" fill=\"#000000\" fill-rule=\"evenodd\" fill-opacity=\"1\" /><path clip-path=\"url(#clip610)\" d=\"M145.992 655.663 Q142.381 655.663 140.552 659.228 Q138.746 662.77 138.746 669.899 Q138.746 677.006 140.552 680.571 Q142.381 684.112 145.992 684.112 Q149.626 684.112 151.431 680.571 Q153.26 677.006 153.26 669.899 Q153.26 662.77 151.431 659.228 Q149.626 655.663 145.992 655.663 M145.992 651.96 Q151.802 651.96 154.857 656.566 Q157.936 661.149 157.936 669.899 Q157.936 678.626 154.857 683.233 Q151.802 687.816 145.992 687.816 Q140.181 687.816 137.103 683.233 Q134.047 678.626 134.047 669.899 Q134.047 661.149 137.103 656.566 Q140.181 651.96 145.992 651.96 Z\" fill=\"#000000\" fill-rule=\"evenodd\" fill-opacity=\"1\" /><path clip-path=\"url(#clip610)\" d=\"M95.7836 440.756 L112.103 440.756 L112.103 444.691 L90.1586 444.691 L90.1586 440.756 Q92.8206 438.001 97.4039 433.372 Q102.01 428.719 103.191 427.376 Q105.436 424.853 106.316 423.117 Q107.219 421.358 107.219 419.668 Q107.219 416.914 105.274 415.177 Q103.353 413.441 100.251 413.441 Q98.0521 413.441 95.5984 414.205 Q93.1678 414.969 90.3901 416.52 L90.3901 411.798 Q93.2141 410.664 95.6678 410.085 Q98.1215 409.506 100.159 409.506 Q105.529 409.506 108.723 412.191 Q111.918 414.876 111.918 419.367 Q111.918 421.497 111.108 423.418 Q110.321 425.316 108.214 427.909 Q107.635 428.58 104.534 431.798 Q101.432 434.992 95.7836 440.756 Z\" fill=\"#000000\" fill-rule=\"evenodd\" fill-opacity=\"1\" /><path clip-path=\"url(#clip610)\" d=\"M121.918 438.812 L126.802 438.812 L126.802 444.691 L121.918 444.691 L121.918 438.812 Z\" fill=\"#000000\" fill-rule=\"evenodd\" fill-opacity=\"1\" /><path clip-path=\"url(#clip610)\" d=\"M137.033 410.131 L155.39 410.131 L155.39 414.066 L141.316 414.066 L141.316 422.538 Q142.334 422.191 143.353 422.029 Q144.371 421.844 145.39 421.844 Q151.177 421.844 154.556 425.015 Q157.936 428.187 157.936 433.603 Q157.936 439.182 154.464 442.284 Q150.992 445.362 144.672 445.362 Q142.496 445.362 140.228 444.992 Q137.982 444.622 135.575 443.881 L135.575 439.182 Q137.658 440.316 139.881 440.872 Q142.103 441.427 144.58 441.427 Q148.584 441.427 150.922 439.321 Q153.26 437.214 153.26 433.603 Q153.26 429.992 150.922 427.886 Q148.584 425.779 144.58 425.779 Q142.705 425.779 140.83 426.196 Q138.978 426.613 137.033 427.492 L137.033 410.131 Z\" fill=\"#000000\" fill-rule=\"evenodd\" fill-opacity=\"1\" /><path clip-path=\"url(#clip610)\" d=\"M90.8067 167.678 L109.163 167.678 L109.163 171.613 L95.0891 171.613 L95.0891 180.085 Q96.1076 179.738 97.1261 179.576 Q98.1447 179.391 99.1632 179.391 Q104.95 179.391 108.33 182.562 Q111.709 185.733 111.709 191.15 Q111.709 196.728 108.237 199.83 Q104.765 202.909 98.4456 202.909 Q96.2697 202.909 94.0012 202.539 Q91.7558 202.168 89.3484 201.427 L89.3484 196.728 Q91.4317 197.863 93.6539 198.418 Q95.8761 198.974 98.353 198.974 Q102.358 198.974 104.696 196.867 Q107.033 194.761 107.033 191.15 Q107.033 187.539 104.696 185.432 Q102.358 183.326 98.353 183.326 Q96.478 183.326 94.603 183.742 Q92.7512 184.159 90.8067 185.039 L90.8067 167.678 Z\" fill=\"#000000\" fill-rule=\"evenodd\" fill-opacity=\"1\" /><path clip-path=\"url(#clip610)\" d=\"M120.922 196.358 L125.807 196.358 L125.807 202.238 L120.922 202.238 L120.922 196.358 Z\" fill=\"#000000\" fill-rule=\"evenodd\" fill-opacity=\"1\" /><path clip-path=\"url(#clip610)\" d=\"M145.992 170.756 Q142.381 170.756 140.552 174.321 Q138.746 177.863 138.746 184.992 Q138.746 192.099 140.552 195.664 Q142.381 199.205 145.992 199.205 Q149.626 199.205 151.431 195.664 Q153.26 192.099 153.26 184.992 Q153.26 177.863 151.431 174.321 Q149.626 170.756 145.992 170.756 M145.992 167.053 Q151.802 167.053 154.857 171.659 Q157.936 176.242 157.936 184.992 Q157.936 193.719 154.857 198.326 Q151.802 202.909 145.992 202.909 Q140.181 202.909 137.103 198.326 Q134.047 193.719 134.047 184.992 Q134.047 176.242 137.103 171.659 Q140.181 167.053 145.992 167.053 Z\" fill=\"#000000\" fill-rule=\"evenodd\" fill-opacity=\"1\" /><polyline clip-path=\"url(#clip612)\" style=\"stroke:#000000; stroke-linecap:butt; stroke-linejoin:round; stroke-width:4; stroke-opacity:1; fill:none\" points=\"\n",
       "  1782.5,87.9763 255.035,184.958 424.753,766.846 933.909,669.865 1443.06,1154.77 1952.22,1445.72 2291.66,960.809 2121.94,281.939 1273.35,475.902 1782.5,87.9763 \n",
       "  \n",
       "  \"/>\n",
       "<circle clip-path=\"url(#clip612)\" cx=\"1782.5\" cy=\"87.9763\" r=\"14\" fill=\"#ff0000\" fill-rule=\"evenodd\" fill-opacity=\"1\" stroke=\"#000000\" stroke-opacity=\"1\" stroke-width=\"3.2\"/>\n",
       "<circle clip-path=\"url(#clip612)\" cx=\"255.035\" cy=\"184.958\" r=\"14\" fill=\"#ff0000\" fill-rule=\"evenodd\" fill-opacity=\"1\" stroke=\"#000000\" stroke-opacity=\"1\" stroke-width=\"3.2\"/>\n",
       "<circle clip-path=\"url(#clip612)\" cx=\"424.753\" cy=\"766.846\" r=\"14\" fill=\"#ff0000\" fill-rule=\"evenodd\" fill-opacity=\"1\" stroke=\"#000000\" stroke-opacity=\"1\" stroke-width=\"3.2\"/>\n",
       "<circle clip-path=\"url(#clip612)\" cx=\"933.909\" cy=\"669.865\" r=\"14\" fill=\"#ff0000\" fill-rule=\"evenodd\" fill-opacity=\"1\" stroke=\"#000000\" stroke-opacity=\"1\" stroke-width=\"3.2\"/>\n",
       "<circle clip-path=\"url(#clip612)\" cx=\"1443.06\" cy=\"1154.77\" r=\"14\" fill=\"#ff0000\" fill-rule=\"evenodd\" fill-opacity=\"1\" stroke=\"#000000\" stroke-opacity=\"1\" stroke-width=\"3.2\"/>\n",
       "<circle clip-path=\"url(#clip612)\" cx=\"1952.22\" cy=\"1445.72\" r=\"14\" fill=\"#ff0000\" fill-rule=\"evenodd\" fill-opacity=\"1\" stroke=\"#000000\" stroke-opacity=\"1\" stroke-width=\"3.2\"/>\n",
       "<circle clip-path=\"url(#clip612)\" cx=\"2291.66\" cy=\"960.809\" r=\"14\" fill=\"#ff0000\" fill-rule=\"evenodd\" fill-opacity=\"1\" stroke=\"#000000\" stroke-opacity=\"1\" stroke-width=\"3.2\"/>\n",
       "<circle clip-path=\"url(#clip612)\" cx=\"2121.94\" cy=\"281.939\" r=\"14\" fill=\"#ff0000\" fill-rule=\"evenodd\" fill-opacity=\"1\" stroke=\"#000000\" stroke-opacity=\"1\" stroke-width=\"3.2\"/>\n",
       "<circle clip-path=\"url(#clip612)\" cx=\"1273.35\" cy=\"475.902\" r=\"14\" fill=\"#ff0000\" fill-rule=\"evenodd\" fill-opacity=\"1\" stroke=\"#000000\" stroke-opacity=\"1\" stroke-width=\"3.2\"/>\n",
       "<circle clip-path=\"url(#clip612)\" cx=\"1782.5\" cy=\"87.9763\" r=\"14\" fill=\"#ff0000\" fill-rule=\"evenodd\" fill-opacity=\"1\" stroke=\"#000000\" stroke-opacity=\"1\" stroke-width=\"3.2\"/>\n",
       "<polyline clip-path=\"url(#clip612)\" style=\"stroke:#0000ff; stroke-linecap:butt; stroke-linejoin:round; stroke-width:4; stroke-opacity:1; fill:none\" points=\"\n",
       "  1273.35,475.902 255.035,184.958 \n",
       "  \"/>\n",
       "<polyline clip-path=\"url(#clip612)\" style=\"stroke:#0000ff; stroke-linecap:butt; stroke-linejoin:round; stroke-width:4; stroke-opacity:1; fill:none\" points=\"\n",
       "  1273.35,475.902 424.753,766.846 \n",
       "  \"/>\n",
       "<polyline clip-path=\"url(#clip612)\" style=\"stroke:#0000ff; stroke-linecap:butt; stroke-linejoin:round; stroke-width:4; stroke-opacity:1; fill:none\" points=\"\n",
       "  1273.35,475.902 933.909,669.865 \n",
       "  \"/>\n",
       "<polyline clip-path=\"url(#clip612)\" style=\"stroke:#0000ff; stroke-linecap:butt; stroke-linejoin:round; stroke-width:4; stroke-opacity:1; fill:none\" points=\"\n",
       "  1273.35,475.902 1443.06,1154.77 \n",
       "  \"/>\n",
       "<polyline clip-path=\"url(#clip612)\" style=\"stroke:#0000ff; stroke-linecap:butt; stroke-linejoin:round; stroke-width:4; stroke-opacity:1; fill:none\" points=\"\n",
       "  1273.35,475.902 1952.22,1445.72 \n",
       "  \"/>\n",
       "<polyline clip-path=\"url(#clip612)\" style=\"stroke:#0000ff; stroke-linecap:butt; stroke-linejoin:round; stroke-width:4; stroke-opacity:1; fill:none\" points=\"\n",
       "  1273.35,475.902 2291.66,960.809 \n",
       "  \"/>\n",
       "</svg>\n"
      ]
     },
     "metadata": {},
     "output_type": "display_data"
    }
   ],
   "source": [
    "pol.Triangular()"
   ]
  }
 ],
 "metadata": {
  "kernelspec": {
   "display_name": "Julia 1.7.2",
   "language": "julia",
   "name": "julia-1.7"
  },
  "language_info": {
   "file_extension": ".jl",
   "mimetype": "application/julia",
   "name": "julia",
   "version": "1.7.2"
  }
 },
 "nbformat": 4,
 "nbformat_minor": 5
}
