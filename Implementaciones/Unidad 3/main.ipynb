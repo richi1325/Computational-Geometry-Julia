{
 "cells": [
  {
   "cell_type": "code",
   "execution_count": 1,
   "id": "4ab8bb7f",
   "metadata": {},
   "outputs": [
    {
     "ename": "LoadError",
     "evalue": "LoadError: syntax: { } matrix syntax is discontinued around C:\\Users\\armando\\Documents\\Computational-Geometry-Julia\\modules\\Voronoi\\TriangulacionDELAUNAY.jl:124\nin expression starting at C:\\Users\\armando\\Documents\\Computational-Geometry-Julia\\modules\\Voronoi\\TriangulacionDELAUNAY.jl:121",
     "output_type": "error",
     "traceback": [
      "LoadError: syntax: { } matrix syntax is discontinued around C:\\Users\\armando\\Documents\\Computational-Geometry-Julia\\modules\\Voronoi\\TriangulacionDELAUNAY.jl:124\nin expression starting at C:\\Users\\armando\\Documents\\Computational-Geometry-Julia\\modules\\Voronoi\\TriangulacionDELAUNAY.jl:121",
      "",
      "Stacktrace:",
      " [1] top-level scope",
      "   @ C:\\Users\\armando\\Documents\\Computational-Geometry-Julia\\modules\\Voronoi\\TriangulacionDELAUNAY.jl:121",
      " [2] include(fname::String)",
      "   @ Base.MainInclude .\\client.jl:451",
      " [3] top-level scope",
      "   @ In[1]:2",
      " [4] eval",
      "   @ .\\boot.jl:373 [inlined]",
      " [5] include_string(mapexpr::typeof(REPL.softscope), mod::Module, code::String, filename::String)",
      "   @ Base .\\loading.jl:1196"
     ]
    }
   ],
   "source": [
    "#Bibliotecas\n",
    "include(\"../../modules/Voronoi/TriangulacionDELAUNAY.jl\")\n"
   ]
  },
  {
   "cell_type": "markdown",
   "id": "0d4ef33c",
   "metadata": {},
   "source": [
    "En el libro \"Geometría Computacional en C (Segunda Edición)\", capítulo 5, se explica la construcción y propiedades de un diagrama de Voronoi, así mismo se explora la triangulación de Delaunay. La complejidad en ejecución para ambos gráficos, en puntos o \"sitios\" con solo dos coordenadas, no parece necesariamente la más significativa, sin embargo, al plantear cuerpos tridimensionales en el algoritmo de computo, el cambio es severo. El código aquí expuesto se encuentra aún en etapa experimental, dado la robustes del algoritmo, se recomienda tener al alcance la explicación en el libro."
   ]
  },
  {
   "cell_type": "markdown",
   "id": "8a9b9652",
   "metadata": {},
   "source": [
    "La idea principal es aceptar tantos puntos como el usuario pretenda, a través de un archivo de texto colocado en la carpeta de Ejemplos. Una vez leídos, el algoritmo debe calcular las caras adyacentes a cada uno, así como las aristas, mismos que serán de mucha utilidad al crear los conos y proyectarlos en el plano.\n",
    "Actualmente existe problema con el construtor que crea las estructuras de cada componente, esto es consecuencia de la cantidad de elementos que deben ser referenciados al ubicar cada sitio, sin olvidar a sus vecinos (a conciencia de las implicaciones dimensionales)."
   ]
  },
  {
   "cell_type": "code",
   "execution_count": 2,
   "id": "6b10fba9",
   "metadata": {},
   "outputs": [
    {
     "ename": "LoadError",
     "evalue": "UndefRefError: access to undefined reference",
     "output_type": "error",
     "traceback": [
      "UndefRefError: access to undefined reference",
      "",
      "Stacktrace:",
      " [1] getproperty",
      "   @ .\\Base.jl:42 [inlined]",
      " [2] Planoclass()",
      "   @ Main C:\\Users\\armando\\Documents\\Computational-Geometry-Julia\\modules\\Voronoi\\TriangulacionDELAUNAY.jl:112",
      " [3] top-level scope",
      "   @ In[2]:1",
      " [4] eval",
      "   @ .\\boot.jl:373 [inlined]",
      " [5] include_string(mapexpr::typeof(REPL.softscope), mod::Module, code::String, filename::String)",
      "   @ Base .\\loading.jl:1196"
     ]
    }
   ],
   "source": [
    "spots=Planoclass()"
   ]
  },
  {
   "cell_type": "code",
   "execution_count": 3,
   "id": "e60b2d62",
   "metadata": {},
   "outputs": [
    {
     "ename": "LoadError",
     "evalue": "UndefVarError: spots not defined",
     "output_type": "error",
     "traceback": [
      "UndefVarError: spots not defined",
      "",
      "Stacktrace:",
      " [1] top-level scope",
      "   @ In[3]:1",
      " [2] eval",
      "   @ .\\boot.jl:373 [inlined]",
      " [3] include_string(mapexpr::typeof(REPL.softscope), mod::Module, code::String, filename::String)",
      "   @ Base .\\loading.jl:1196"
     ]
    }
   ],
   "source": [
    "spots.Insertar(\"./Ejemplos/TD_ejemplo1.txt\")"
   ]
  },
  {
   "cell_type": "markdown",
   "id": "9adb318f",
   "metadata": {},
   "source": [
    "Al exportar la triangulación, se espera poder aprovecharla para aplicaciones de optimización en polígonos, gracias a las propiedades que garantiza el concepto en su construcción. "
   ]
  },
  {
   "cell_type": "code",
   "execution_count": 4,
   "id": "6a634a2e",
   "metadata": {},
   "outputs": [
    {
     "ename": "LoadError",
     "evalue": "UndefVarError: spots not defined",
     "output_type": "error",
     "traceback": [
      "UndefVarError: spots not defined",
      "",
      "Stacktrace:",
      " [1] top-level scope",
      "   @ In[4]:1",
      " [2] eval",
      "   @ .\\boot.jl:373 [inlined]",
      " [3] include_string(mapexpr::typeof(REPL.softscope), mod::Module, code::String, filename::String)",
      "   @ Base .\\loading.jl:1196"
     ]
    }
   ],
   "source": [
    "spots.Plot()"
   ]
  },
  {
   "cell_type": "code",
   "execution_count": 5,
   "id": "530712d7",
   "metadata": {},
   "outputs": [
    {
     "ename": "LoadError",
     "evalue": "UndefVarError: spots not defined",
     "output_type": "error",
     "traceback": [
      "UndefVarError: spots not defined",
      "",
      "Stacktrace:",
      " [1] top-level scope",
      "   @ In[5]:1",
      " [2] eval",
      "   @ .\\boot.jl:373 [inlined]",
      " [3] include_string(mapexpr::typeof(REPL.softscope), mod::Module, code::String, filename::String)",
      "   @ Base .\\loading.jl:1196"
     ]
    }
   ],
   "source": [
    "spots.T_DELAUNAY()"
   ]
  },
  {
   "cell_type": "markdown",
   "id": "b4ad2aa2",
   "metadata": {},
   "source": [
    "# Conclusiones:\n"
   ]
  },
  {
   "cell_type": "markdown",
   "id": "1f9aec00",
   "metadata": {},
   "source": [
    "Si se observa con detenimiento el archivo de julia exportado en la carpeta \"modules\", bastará con dimensionar sus más de 800 líneas para comprender que no es un cálculo computacional que se catalogue como trivial. En lo personal, puedo decir que experimenté la geometría computacional desde una perspectiva nueva al padecer las complicaciones de caracterizar en detalle lo visto en la teoría, en la noción de que una computadora no posee la abstracción humana entre sus características, por ello es necesario entender dos lenguajes al realizar cualquier implementación, el lenguaje matemático y la sintaxis (Julia en este caso), que aunque puedan llegar a ser parecidos, el único interprete entre ellos es el programador.\n",
    "Generar la relación entre ambos sistemas es una tarea que amerita, como mínimo, el dominio del razonamiento abstracto y la perscepción espacial, en resumen, poner en practica cada tópico esbozado en el curso."
   ]
  },
  {
   "cell_type": "code",
   "execution_count": null,
   "id": "9fb17109",
   "metadata": {},
   "outputs": [],
   "source": []
  }
 ],
 "metadata": {
  "kernelspec": {
   "display_name": "Julia 1.7.1",
   "language": "julia",
   "name": "julia-1.7"
  },
  "language_info": {
   "file_extension": ".jl",
   "mimetype": "application/julia",
   "name": "julia",
   "version": "1.7.1"
  }
 },
 "nbformat": 4,
 "nbformat_minor": 5
}
