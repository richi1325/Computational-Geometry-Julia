{
 "cells": [
  {
   "cell_type": "code",
   "execution_count": 1,
   "id": "4ab8bb7f",
   "metadata": {},
   "outputs": [
    {
     "ename": "LoadError",
     "evalue": "LoadError: UndefVarError: s not defined\nin expression starting at C:\\Users\\armando\\Downloads\\TD\\TriangulacionDELAUNAY.jl:759",
     "output_type": "error",
     "traceback": [
      "LoadError: UndefVarError: s not defined\nin expression starting at C:\\Users\\armando\\Downloads\\TD\\TriangulacionDELAUNAY.jl:759",
      "",
      "Stacktrace:",
      " [1] top-level scope",
      "   @ C:\\Users\\armando\\Downloads\\TD\\TriangulacionDELAUNAY.jl:759",
      " [2] include(fname::String)",
      "   @ Base.MainInclude .\\client.jl:451",
      " [3] top-level scope",
      "   @ In[1]:2",
      " [4] eval",
      "   @ .\\boot.jl:373 [inlined]",
      " [5] include_string(mapexpr::typeof(REPL.softscope), mod::Module, code::String, filename::String)",
      "   @ Base .\\loading.jl:1196"
     ]
    }
   ],
   "source": [
    "#Bibliotecas\n",
    "include(\"../../modules/Voronoi/TriangulacionDELAUNAY.jl\")\n"
   ]
  },
  {
   "cell_type": "code",
   "execution_count": null,
   "id": "6b10fba9",
   "metadata": {},
   "outputs": [],
   "source": [
    "spots=Planoclass()"
   ]
  },
  {
   "cell_type": "code",
   "execution_count": null,
   "id": "e60b2d62",
   "metadata": {},
   "outputs": [],
   "source": [
    "spots.Insertar(\"./Ejemplos/TD_ejemplo1.txt\")"
   ]
  },
  {
   "cell_type": "code",
   "execution_count": null,
   "id": "6a634a2e",
   "metadata": {},
   "outputs": [],
   "source": [
    "spots.Plot()"
   ]
  },
  {
   "cell_type": "code",
   "execution_count": null,
   "id": "530712d7",
   "metadata": {},
   "outputs": [],
   "source": [
    "spots.T_DELAUNAY()"
   ]
  },
  {
   "cell_type": "code",
   "execution_count": null,
   "id": "ab87e420",
   "metadata": {},
   "outputs": [],
   "source": []
  }
 ],
 "metadata": {
  "kernelspec": {
   "display_name": "Julia 1.7.1",
   "language": "julia",
   "name": "julia-1.7"
  },
  "language_info": {
   "file_extension": ".jl",
   "mimetype": "application/julia",
   "name": "julia",
   "version": "1.7.1"
  }
 },
 "nbformat": 4,
 "nbformat_minor": 5
}
