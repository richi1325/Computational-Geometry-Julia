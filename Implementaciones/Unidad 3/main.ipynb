{
 "cells": [
  {
   "cell_type": "code",
   "execution_count": 1,
   "id": "4ab8bb7f",
   "metadata": {},
   "outputs": [],
   "source": [
    "#Bibliotecas\n",
    "include(\"../../modules/Voronoi/TriangulacionDELAUNAY.jl\")\n"
   ]
  },
  {
   "cell_type": "markdown",
   "id": "0d4ef33c",
   "metadata": {},
   "source": [
    "En el libro \"Geometría Computacional en C\" (Segunda Edición),\n",
    "Capítulo 5, se explica la construcción y propiedades de un diagrama de Voronoi, así mismo se explora la triangulación de Delaunay. La complejidad de ejecución para ambos gráficos, en puntos o \"sitios\" con solo dos coordenadas, no es necesariamente la más significativa, por otro lado cuando se trata de tres coordenadas, el cambio es severo.El código aquí expuesto se encuentra aún en etapa experimental dado la robustes del algoritmo, se recomienda tener al alcance la explicación en el libro."
   ]
  },
  {
   "cell_type": "markdown",
   "id": "8a9b9652",
   "metadata": {},
   "source": [
    "La idea principal es lograr leer tantos puntos como el usuario pretenda, a traves de un archivo de texto colocado en la carpeta de Ejemplos. Una vez leídos, el algoritmo debe calcular las caras adyacentes a cada uno, así como las aristas, mismos que serán de mucha utilidad al crear los conos y proyectarlos en el plano.\n",
    "Actualmente existe problema con el construtor que crea las estructuras de cada componente, esto es consecuencia de la cantidad de elementos que deben ser referenciados al ubicar cada sitio, sin olvidar a sus vecinos (con las propiedades de la tercera dimensión)."
   ]
  },
  {
   "cell_type": "code",
   "execution_count": 6,
   "id": "6b10fba9",
   "metadata": {},
   "outputs": [
    {
     "ename": "LoadError",
     "evalue": "setfield! fields of Types should not be changed",
     "output_type": "error",
     "traceback": [
      "setfield! fields of Types should not be changed",
      "",
      "Stacktrace:",
      " [1] error(s::String)",
      "   @ Base .\\error.jl:33",
      " [2] setproperty!(x::Type, f::Symbol, v::Nothing)",
      "   @ Base .\\Base.jl:38",
      " [3] tFace(tFace::Type)",
      "   @ Main C:\\Users\\armando\\Documents\\Computational-Geometry-Julia\\modules\\Voronoi\\TriangulacionDELAUNAY.jl:90",
      " [4] Planoclass()",
      "   @ Main C:\\Users\\armando\\Documents\\Computational-Geometry-Julia\\modules\\Voronoi\\TriangulacionDELAUNAY.jl:112",
      " [5] top-level scope",
      "   @ In[6]:1",
      " [6] eval",
      "   @ .\\boot.jl:373 [inlined]",
      " [7] include_string(mapexpr::typeof(REPL.softscope), mod::Module, code::String, filename::String)",
      "   @ Base .\\loading.jl:1196"
     ]
    }
   ],
   "source": [
    "spots=Planoclass()"
   ]
  },
  {
   "cell_type": "code",
   "execution_count": 3,
   "id": "e60b2d62",
   "metadata": {},
   "outputs": [
    {
     "ename": "LoadError",
     "evalue": "UndefVarError: spots not defined",
     "output_type": "error",
     "traceback": [
      "UndefVarError: spots not defined",
      "",
      "Stacktrace:",
      " [1] top-level scope",
      "   @ In[3]:1",
      " [2] eval",
      "   @ .\\boot.jl:373 [inlined]",
      " [3] include_string(mapexpr::typeof(REPL.softscope), mod::Module, code::String, filename::String)",
      "   @ Base .\\loading.jl:1196"
     ]
    }
   ],
   "source": [
    "spots.Insertar(\"./Ejemplos/TD_ejemplo1.txt\")"
   ]
  },
  {
   "cell_type": "markdown",
   "id": "9adb318f",
   "metadata": {},
   "source": [
    "Al exportar la triangulación, se espera poder aprovecharla para aplicaciones de optimización en polígonos, gracias a las propiedades que garantiza su construcción y concepto."
   ]
  },
  {
   "cell_type": "code",
   "execution_count": 6,
   "id": "6a634a2e",
   "metadata": {},
   "outputs": [
    {
     "ename": "LoadError",
     "evalue": "UndefVarError: spots not defined",
     "output_type": "error",
     "traceback": [
      "UndefVarError: spots not defined",
      "",
      "Stacktrace:",
      " [1] top-level scope",
      "   @ In[6]:1",
      " [2] eval",
      "   @ .\\boot.jl:373 [inlined]",
      " [3] include_string(mapexpr::typeof(REPL.softscope), mod::Module, code::String, filename::String)",
      "   @ Base .\\loading.jl:1196"
     ]
    }
   ],
   "source": [
    "spots.Plot()"
   ]
  },
  {
   "cell_type": "code",
   "execution_count": 5,
   "id": "530712d7",
   "metadata": {},
   "outputs": [
    {
     "ename": "LoadError",
     "evalue": "UndefVarError: spots not defined",
     "output_type": "error",
     "traceback": [
      "UndefVarError: spots not defined",
      "",
      "Stacktrace:",
      " [1] top-level scope",
      "   @ In[5]:1",
      " [2] eval",
      "   @ .\\boot.jl:373 [inlined]",
      " [3] include_string(mapexpr::typeof(REPL.softscope), mod::Module, code::String, filename::String)",
      "   @ Base .\\loading.jl:1196"
     ]
    }
   ],
   "source": [
    "spots.T_DELAUNAY()"
   ]
  },
  {
   "cell_type": "markdown",
   "id": "b4ad2aa2",
   "metadata": {},
   "source": [
    "Conclusiones:\n",
    "Si se observa con detenimiento el archivo de julia exportado en la carpeta \"modules\", bastará con dimensionar sus más de 800 líneas para comprender que no es un cálculo computacional que se catalogue como trivial. En lo personal, puedo decir que experimente la geometría computacional desde una perspectiva nueva, debido a que una computadora no posee la abstracción humana como una característica, es necesario entender dos lenguajes al realizar cualquier implementación, el lenguaje matemático y la sintaxis (Julia en este caso), que aunque puedan llegar a ser parecidos, el interprete entre ellos es necesariamente el programador."
   ]
  },
  {
   "cell_type": "code",
   "execution_count": null,
   "id": "2550e03d",
   "metadata": {},
   "outputs": [],
   "source": []
  }
 ],
 "metadata": {
  "kernelspec": {
   "display_name": "Julia 1.7.1",
   "language": "julia",
   "name": "julia-1.7"
  },
  "language_info": {
   "file_extension": ".jl",
   "mimetype": "application/julia",
   "name": "julia",
   "version": "1.7.1"
  }
 },
 "nbformat": 4,
 "nbformat_minor": 5
}
