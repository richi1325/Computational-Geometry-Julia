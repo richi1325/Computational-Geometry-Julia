{
 "cells": [
  {
   "cell_type": "code",
   "execution_count": null,
   "id": "604fbf0e-6a15-454d-858c-091cdf3b6e55",
   "metadata": {},
   "outputs": [],
   "source": [
    "include(\"../../modules/SearchInsertion/_util.jl\")\n",
    "include(\"../../modules/SearchInsertion/_types.jl\")\n",
    "include(\"../../modules/SearchInsertion/intersection.jl\")\n",
    "include(\"../../modules/SearchInsertion/inside.jl\")\n",
    "include(\"../../modules/SearchInsertion/extremal.jl\")\n",
    "include(\"../../modules/SearchInsertion/moving.jl\")\n",
    "import Plots"
   ]
  },
  {
   "cell_type": "markdown",
   "id": "0304d111-ef4f-48fc-a99b-63d0207827f7",
   "metadata": {
    "tags": []
   },
   "source": [
    "# Segment to segment intersection"
   ]
  },
  {
   "cell_type": "markdown",
   "id": "0fae980f-e1b7-4521-93df-ba883f4909fa",
   "metadata": {},
   "source": [
    "Este algoritmo fue uno de lo más sencillos de implementar y de entender dado que no presenta mayor complejidad que la de los pequeños detalles.\n",
    "Podemos ver que la función retorna un código y una intersección"
   ]
  },
  {
   "cell_type": "code",
   "execution_count": null,
   "id": "7faf79e8-38ee-412f-8acb-c82cd9fcbfbb",
   "metadata": {},
   "outputs": [],
   "source": [
    "s1 = Segment([0,0],[4,4])\n",
    "s2 = Segment([1,0],[5,4])\n",
    "code, inter = find_intersect(s1,s2)\n",
    "println(code)\n",
    "if inter != nothing\n",
    "    plot(Vertex(inter),color=:yellow)\n",
    "end\n",
    "plot(s1,color=:green)\n",
    "plot!(s2,color=:red)"
   ]
  },
  {
   "cell_type": "code",
   "execution_count": null,
   "id": "d44d1087-eaf1-4590-91a4-bb9a536c4dc7",
   "metadata": {},
   "outputs": [],
   "source": [
    "s1 = Segment([0,0],[4,4])\n",
    "s2 = Segment([0,4],[4,0])\n",
    "code, inter = find_intersect(s1,s2)\n",
    "plot(s1,color=:green)\n",
    "plot!(s2,color=:red)\n",
    "plot!(Vertex(inter),color=:yellow)"
   ]
  },
  {
   "cell_type": "code",
   "execution_count": null,
   "id": "dc2734d7-ff42-4863-9f37-6a2dd0d8eace",
   "metadata": {},
   "outputs": [],
   "source": [
    "s1 = Segment([0,0],[4,4])\n",
    "s2 = Segment([4,4],[4,0])\n",
    "code, inter = find_intersect(s1,s2)\n",
    "plot(s1,color=:green)\n",
    "plot!(s2,color=:red)\n",
    "plot!(Vertex(inter),color=:yellow)"
   ]
  },
  {
   "cell_type": "markdown",
   "id": "6bed0ab6-e840-4a9e-bca5-02b2e0f2a0af",
   "metadata": {
    "tags": []
   },
   "source": [
    "# Polygon intersection"
   ]
  },
  {
   "cell_type": "markdown",
   "id": "d16d3666-60fb-42a8-805d-e2ccb834cadc",
   "metadata": {},
   "source": [
    "En este algoritmo se computa la intersección de dos poligonos y se retorna como un nuevo polígono en caso de existir. De forma similar al algoritmo anterior, la implementación no tuvo ninguna dificultad pues el libro fue claro en el procedimiento."
   ]
  },
  {
   "cell_type": "code",
   "execution_count": null,
   "id": "9b72a896-8d98-44f1-b617-30e2ed0d2e39",
   "metadata": {},
   "outputs": [],
   "source": [
    "p = Polygon([0,0],[2,0],[2,2],[0,2])\n",
    "q = Polygon([1,1],[3,1],[3,3],[1,3])\n",
    "pq = find_intersect(p,q)\n",
    "plot(p,color=:red)\n",
    "plot!(q,color=:green)\n",
    "plot!(pq,color=:yellow)"
   ]
  },
  {
   "cell_type": "markdown",
   "id": "91a9109e-56dd-4522-a77b-888204d389b3",
   "metadata": {},
   "source": [
    "# Segments intersection"
   ]
  },
  {
   "cell_type": "markdown",
   "id": "8f9e5ac5-989a-4672-86f9-66bbeb6a6b09",
   "metadata": {},
   "source": [
    "Este algoritmo fue uno de los más desafiantes de comprender e interpretar pero con un grado de dificultad suficiente para ser un reto y para lograr un gran aprendizaje. El algoritmo busca evitar hacer las $n^2$ comparaciones que sucederían si lo hicieramos de una forma greedy, haciendo uso del barrido del plano a lo largo del eje \\textit{y} mientras guarda los segmentos de recta de forma ordenada sobre el eje \\textit{x}. Por ello se toman en cuenta tres clases de eventos.\n",
    "+ Entrada de segmentos\n",
    "+ Salida de segmentos\n",
    "+ Intersección de segmentos\n",
    "para mantener un orden en los eventos y en los segmentos que entran a la lista se hace uso de AVLTree o árboles binarios autobalanceados que mantienen un orden a la vez que evitan que el árbol se propague en una rama exclusivamente.\n",
    "\n",
    "En la entrada de elementos se busca si hay intersecciones con el anterior y con el sucesor en cuyo caso se agregan a la pila de eventos manejada por AVLTree.\n",
    "\n",
    "En la salida de elementos simplemente se elimina el elemento de la lista y se comparan los elementos que se encuentran a sus lados en caso de existir.\n",
    "\n",
    "En el caso de intersecciones hay que tener mucho cuidado puesto que al realizar una intersección, se cambian de lado los elementos que se encuentra adjuntos y se vuelven a computar intersecciones con los nuevos adyacentes. Si no se maneja de forma correcta este caso terminará en un bucle infinito. Si en las nuevas intersecciones computadas hay una que se haya calculado previamente y no la notamos esto evitará el fin del ciclo principal por lo cuál la debemos ignorar.\n",
    "\n",
    "Este algoritmo fue el que más me gusto realizar debido principalmente a la elegancia de su solución sin demeritar la dificultad de su implementación."
   ]
  },
  {
   "cell_type": "code",
   "execution_count": null,
   "id": "94ec709c-dc61-442b-bc58-56e8d379e005",
   "metadata": {},
   "outputs": [],
   "source": [
    "segs = [Segment(rand(2)*50,rand(2)*50) for _ in 1:50]\n",
    "intersections = find_intersects(segs...)"
   ]
  },
  {
   "cell_type": "code",
   "execution_count": null,
   "id": "4054fc01-b4a7-48ea-a3f3-39553284b627",
   "metadata": {},
   "outputs": [],
   "source": [
    "plot(Vertex([0,0]),color=:white)\n",
    "for seg in segs\n",
    "    plot!(seg,color=:black)\n",
    "end\n",
    "for inter in intersections\n",
    "    plot!(Vertex(inter),color=:yellow)\n",
    "end\n",
    "plot!(Vertex([0,0]),color=:white)"
   ]
  },
  {
   "cell_type": "markdown",
   "id": "c624cdc4-c537-42b9-80b6-9dfa1c739da7",
   "metadata": {},
   "source": [
    "# Point inside polygon"
   ]
  },
  {
   "cell_type": "markdown",
   "id": "f7703be4-6211-490d-bed3-e38fcc9a4766",
   "metadata": {},
   "source": [
    "Este algoritmo es interesante dado que propone una solución elegante para determinar si un punto está o no dentro de un polígono, no hubo mayor complicación."
   ]
  },
  {
   "cell_type": "code",
   "execution_count": null,
   "id": "cb5776a4-1c66-4ba1-8620-6c2839812cdd",
   "metadata": {},
   "outputs": [],
   "source": [
    "pol = Polygon([4,4],[8,4],[8,8],[12,4],[20,12],[4,12])\n",
    "plot(pol,color=:orange)\n",
    "for p in 1:1000\n",
    "    p = [(rand()*18)+3,(rand()*14)+1]\n",
    "    code = isinside(p,pol)\n",
    "    if code == \"inside\"\n",
    "        color = :green\n",
    "    elseif code == \"vertex\"\n",
    "        color = :yellow\n",
    "    elseif code == \"edge\"\n",
    "        color = :blue\n",
    "    elseif code == \"outside\"\n",
    "        color = :red\n",
    "    end\n",
    "    plot!(Vertex(p),color=color)\n",
    "end\n",
    "plot!(Vertex([0,0]),color=:white)"
   ]
  },
  {
   "cell_type": "markdown",
   "id": "a4213b4e-cfa4-4b93-bda6-563e3b0e2e14",
   "metadata": {},
   "source": [
    "# Point inside polyhedron"
   ]
  },
  {
   "cell_type": "markdown",
   "id": "9d8c50b7-e762-4e46-9699-f735470f70c0",
   "metadata": {},
   "source": [
    "Este algoritmo determina si un punto dado esta contenido en un polihedro. La solución es la misma que la dada por el algoritmo anterior con la diferencia de que tiene más casos especiales, mismos que se tratan de una forma general. \n",
    "El ejemplo presentado muestra un tetrahedro en el origen y varios puntos fácilmente demostrables que están dentro o fuera del polihedro. En general este algoritmo fue simple de implementar con ayuda de algoritmo que computa la intersección entre un triángulo en $R^3$ y un segmento de recta."
   ]
  },
  {
   "cell_type": "code",
   "execution_count": null,
   "id": "2103fc4f-2945-4dcd-9181-f643582b16f7",
   "metadata": {},
   "outputs": [],
   "source": [
    "v1 = [0,0,0]\n",
    "v2 = [1,0,0]\n",
    "v3 = [0,1,0]\n",
    "v4 = [0,0,1]\n",
    "hedron = Polyhedron((v1,v2,v3,v4),[1,2,3],[1,2,4],[1,3,4],[2,3,4])\n",
    "points = [[0,0,0],\n",
    "    [0,0.5,0],\n",
    "    [-1,-1,-1],\n",
    "    [0.25,0.25,0.25],\n",
    "    [0.3,0.3,0.3]]\n",
    "f = (p,hed) -> isinside(p,hed)\n",
    "for p in points\n",
    "    is_in = isinside(p,hedron)\n",
    "    println(\"$p is $is_in\")\n",
    "end"
   ]
  },
  {
   "cell_type": "markdown",
   "id": "f55abbb0-1906-4c28-9ddb-c8e5219992ab",
   "metadata": {},
   "source": [
    "# Extremal in direction"
   ]
  },
  {
   "cell_type": "markdown",
   "id": "895450ae-7715-4d58-8c33-e685506e33be",
   "metadata": {},
   "source": [
    "Este algoritmo computa el vértice cuya componente de un vector $\\vec{u}$ es mayor. En general fue muy explicativo el libro con la implementación y fue sencillo. Cabe resaltar la forma en la que termina el ciclo el algoritmo, con ayuda de un artificio muy sutíl. "
   ]
  },
  {
   "cell_type": "code",
   "execution_count": null,
   "id": "d51095ce-2175-41c6-a28f-963b5523d832",
   "metadata": {},
   "outputs": [],
   "source": [
    "pol = Polygon([1,1],[3,1],[4,3],[2,4],[0,3])\n",
    "u = [0,1]\n",
    "x,y = [0,u[1]],[0,u[2]]\n",
    "ext = Vertex(find_extremal(pol,u))\n",
    "plot(pol,color=:orange)\n",
    "Plots.plot!(x,y,marker=(:circle,5,:blue),linecolor=:blue, linewidth=3, legend=false)\n",
    "plot!(ext,color=:green)"
   ]
  },
  {
   "cell_type": "code",
   "execution_count": null,
   "id": "41d625ad-c7ed-4f94-8a68-b6bcdf9b96ca",
   "metadata": {},
   "outputs": [],
   "source": [
    "pol = Polygon([1,1],[3,1],[4,3],[2,4],[0,3])\n",
    "u = [1,0]\n",
    "x,y = [0,u[1]],[0,u[2]]\n",
    "ext = Vertex(find_extremal(pol,u))\n",
    "plot(pol,color=:orange)\n",
    "Plots.plot!(x,y,marker=(:circle,5,:blue),linecolor=:blue, linewidth=3, legend=false)\n",
    "plot!(ext,color=:green)"
   ]
  },
  {
   "cell_type": "code",
   "execution_count": null,
   "id": "fc021275-d125-4141-93e7-48ada2568055",
   "metadata": {},
   "outputs": [],
   "source": [
    "pol = Polygon([2,6],[-4,6],[-4,2],[-2,-2],[4,2])\n",
    "u = [0,-1]\n",
    "x,y = [0,u[1]],[0,u[2]]\n",
    "ext = Vertex(find_extremal(pol,u))\n",
    "plot(pol,color=:orange)\n",
    "Plots.plot!(x,y,marker=(:circle,5,:blue),linecolor=:blue, linewidth=3, legend=false)\n",
    "plot!(ext,color=:green)"
   ]
  },
  {
   "cell_type": "code",
   "execution_count": null,
   "id": "5ac96712-0dcc-4a32-8adb-37fbc348e412",
   "metadata": {},
   "outputs": [],
   "source": [
    "pol = Polygon([4,2],[6,1],[8,4],[9,7],[6,6],[4,4])\n",
    "u = [1,1]\n",
    "x,y = [0,u[1]],[0,u[2]]\n",
    "ext = Vertex(find_extremal(pol,u))\n",
    "plot(pol,color=:orange)\n",
    "Plots.plot!(x,y,marker=(:circle,5,:blue),linecolor=:blue, linewidth=3, legend=false)\n",
    "plot!(ext,color=:green)"
   ]
  },
  {
   "cell_type": "markdown",
   "id": "eca47c12-ccca-4c04-897d-d21644205fd9",
   "metadata": {
    "tags": []
   },
   "source": [
    "# Shortest single vertex"
   ]
  },
  {
   "cell_type": "markdown",
   "id": "592945a6-10ae-45d5-b6fe-474d052ab10b",
   "metadata": {},
   "source": [
    "El algoritmo computa el camino más corto que debe seguir una particula, dado un conjunto de obstáculos disjuntos. El problema puede parecer en un inicio complicado, pero se puede reducir a realizar dos labores\n",
    "\n",
    "+ Crear el grafo de visibilidad\n",
    "+ Encontrar el camino más corto desde un punto origen hasta el destino\n",
    "\n",
    "Lo primero se puede realizar simplemente buscando por pares de vértices los nodos y arista de nuestro gráfico de visibiidad, descartando aquellos elementos en el mismo polígono que no sean adyacentes y aquellos que no sean visibles, es decir que choquen con alguna arista de los polígonos. \n",
    "El segundo punto se puede implementar con el algoritmo Dijkstra.\n",
    "Una vez comprendido el algoritmo no fue complicado de implementar."
   ]
  },
  {
   "cell_type": "code",
   "execution_count": null,
   "id": "848862c3-4641-4d78-9b3c-bb261f5b2fda",
   "metadata": {},
   "outputs": [],
   "source": [
    "p1 = Polygon([0,0],[1,0],[1,1],[0,1])\n",
    "p2 = Polygon([2,2],[3,2],[3,3],[2,3])\n",
    "origin = Vertex([0,4])\n",
    "dest = Vertex([4,2])\n",
    "visg = get_visibility_graph(origin,dest,[p1,p2])\n",
    "plot(p1,color=:green)\n",
    "plot!(p2,color=:blue)\n",
    "plot!(origin,color=:red)\n",
    "plot!(dest,color=:purple)"
   ]
  },
  {
   "cell_type": "code",
   "execution_count": null,
   "id": "a074c899-00f2-49aa-8f28-4f7f5ca000d5",
   "metadata": {},
   "outputs": [],
   "source": [
    "plot(visg,color=:deepskyblue2)\n",
    "plot!(origin,color=:red)\n",
    "plot!(dest,color=:purple)"
   ]
  },
  {
   "cell_type": "code",
   "execution_count": null,
   "id": "fe4be57d-03ce-4d16-a252-da08cae6a59a",
   "metadata": {},
   "outputs": [],
   "source": [
    "path = dijkstra(visg,origin,dest)\n",
    "x,y = [v[1] for v in path],[v[2] for v in path]\n",
    "plot(visg,color=:deepskyblue2)\n",
    "Plots.plot!(x,y,marker=(:circle,5,:orange),linecolor=:orange, linewidth=7, legend=false)\n",
    "plot!(origin,color=:red)\n",
    "plot!(dest,color=:red)"
   ]
  },
  {
   "cell_type": "markdown",
   "id": "c0d32c15-e8ed-4e44-84bb-0924c4b1d099",
   "metadata": {},
   "source": [
    "# Moving Polygon"
   ]
  },
  {
   "cell_type": "markdown",
   "id": "0cefa6e4-f32f-4ba6-b935-16b6a2c6f3ec",
   "metadata": {},
   "source": [
    "Este es un caso especial del algoritmo anterior donde se debe realizar un preprocesamiento a los polígonos antes de buscar el camino más corto. Primero se debe realizar la suma de Minkowski sobre todos los polígonos obstáculos, tras lo cuál obtenemos elementos más grandes y que incluso pueden llegar a solaparse, por lo cuál se debe calcular la union de los elementos polígonos, pues de lo contrario el algoritmo puede fallar y encontrar una solución no factible, por donde no pasa el polígono.\n",
    "Esta fue una complicación ya que no se pudo encontrar la forma directa de computar la unión de dichos elementos ya que el libro no da una descripción precisa y el algoritmo parece tener muchos casos especiales que deben ser tratados de forma particular.\n",
    "Después de realizar el procesamiento, el procedimiento es el mismo que el algoritmo anterior."
   ]
  },
  {
   "cell_type": "code",
   "execution_count": null,
   "id": "4f0e2e02-d7a1-453f-8ae7-d9e058b0683c",
   "metadata": {},
   "outputs": [],
   "source": [
    "p0 = Polygon([0,0],[1,0],[2,1],[1,3],[0,1])\n",
    "p1 = Polygon(-[0,0],-[1,0],-[2,1],-[1,3],-[0,1])\n",
    "\n",
    "obs1 = Polygon([2,8],[6,2],[8,6])\n",
    "obs2 = Polygon([15,10],[10,0],[20,5])\n",
    "obs3 = Polygon([10,15],[25,15],[5,20])\n",
    "\n",
    "origin = Vertex([0,0])\n",
    "dest = Vertex([25,8])\n",
    "obs = [obs1,obs2,obs3]\n",
    "\n",
    "colors = [:orange,:green,:blue]\n",
    "\n",
    "plot(p0,color=:red)\n",
    "for (o,c) in zip(obs,colors)\n",
    "    plot!(o,color=c)\n",
    "end\n",
    "plot!(dest,color=:purple)"
   ]
  },
  {
   "cell_type": "code",
   "execution_count": null,
   "id": "e16ca7d5-e70d-4898-a387-967c65dc8597",
   "metadata": {},
   "outputs": [],
   "source": [
    "obs_hulls = [minkowski_sum(o,p1) for o in obs]\n",
    "plot(p0,color=:red)\n",
    "for (h,c) in zip(obs_hulls,colors)\n",
    "    plot!(h,color=c)\n",
    "end\n",
    "plot!(dest,color=:purple)"
   ]
  },
  {
   "cell_type": "code",
   "execution_count": null,
   "id": "6861bc0d-6864-4368-b890-21e5762671f2",
   "metadata": {},
   "outputs": [],
   "source": [
    "visg = get_visibility_graph(origin,dest,obs_hulls)\n",
    "plot(p0,color=:red)\n",
    "plot!(visg,color=:deepskyblue2)\n",
    "plot!(dest,color=:purple)"
   ]
  },
  {
   "cell_type": "code",
   "execution_count": null,
   "id": "c857bfe3-fe74-423a-82ce-18b2753220f2",
   "metadata": {},
   "outputs": [],
   "source": [
    "path = dijkstra(visg,origin,dest)\n",
    "x,y = [v[1] for v in path],[v[2] for v in path]\n",
    "plot!(p0,color=:red)\n",
    "plot!(visg,color=:deepskyblue2)\n",
    "Plots.plot!(x,y,marker=(:circle,5,:orange),linecolor=:orange, linewidth=7, legend=false)\n",
    "plot!(origin,color=:blue)\n",
    "plot!(dest,color=:purple)"
   ]
  }
 ],
 "metadata": {
  "kernelspec": {
   "display_name": "Julia 1.7.2",
   "language": "julia",
   "name": "julia-1.7"
  },
  "language_info": {
   "file_extension": ".jl",
   "mimetype": "application/julia",
   "name": "julia",
   "version": "1.7.2"
  }
 },
 "nbformat": 4,
 "nbformat_minor": 5
}
