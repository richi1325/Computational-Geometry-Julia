{
 "cells": [
  {
   "cell_type": "code",
   "execution_count": 50,
   "id": "ea97fbe6",
   "metadata": {},
   "outputs": [],
   "source": [
    "#Bibliotecas\n",
    "include(\"modules/LinkedList/LinkedList.jl\")"
   ]
  },
  {
   "cell_type": "markdown",
   "id": "0ce1e706-43ae-4062-8da0-39558638fe42",
   "metadata": {},
   "source": [
    "# Implementación de una lista simple"
   ]
  },
  {
   "cell_type": "code",
   "execution_count": 53,
   "id": "2ab2c231",
   "metadata": {},
   "outputs": [
    {
     "name": "stdout",
     "output_type": "stream",
     "text": [
      "[30, 10, 7, 3, 4]"
     ]
    }
   ],
   "source": [
    "lista = LinkedList(30)\n",
    "lista.insertar(10)\n",
    "lista.insertar(7)\n",
    "lista.insertar(3)\n",
    "lista.insertar(4)\n",
    "lista.imprimir()"
   ]
  }
 ],
 "metadata": {
  "kernelspec": {
   "display_name": "Julia 1.7.1",
   "language": "julia",
   "name": "julia-1.7"
  },
  "language_info": {
   "file_extension": ".jl",
   "mimetype": "application/julia",
   "name": "julia",
   "version": "1.7.1"
  }
 },
 "nbformat": 4,
 "nbformat_minor": 5
}
